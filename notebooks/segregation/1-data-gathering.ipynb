{
 "cells": [
  {
   "cell_type": "markdown",
   "metadata": {
    "Collapsed": "false"
   },
   "source": [
    "### Step 1: Data gathering "
   ]
  },
  {
   "cell_type": "markdown",
   "metadata": {
    "Collapsed": "false"
   },
   "source": [
    "__Step goal__: Download and store the datasets used in this study.\n",
    "\n",
    "__Step overview__:\n",
    "1. Census data;\n",
    "2. Geographic boundaries."
   ]
  },
  {
   "cell_type": "markdown",
   "metadata": {},
   "source": [
    "All data is __open access__ and can be found on the official websites. Note, that the data sets can be updated by corresponding agencies; therefore, some discrepancies are possible: new variables will become available, or some data set will have fewer attributes.\n",
    "\n",
    "Note that this notebook collects the __census data only for British Columbia__. To get the data for another region, go [here](https://www12.statcan.gc.ca/census-recensement/2016/dp-pd/prof/details/download-telecharger/comp/page_dl-tc.cfm?Lang=E), select the region of interest and change the url in the _1. Census data_ code block. "
   ]
  },
  {
   "cell_type": "code",
   "execution_count": 1,
   "metadata": {},
   "outputs": [],
   "source": [
    "import requests, zipfile, io\n",
    "from datetime import datetime\n",
    "import os"
   ]
  },
  {
   "cell_type": "markdown",
   "metadata": {},
   "source": [
    "## 1. Canada"
   ]
  },
  {
   "cell_type": "markdown",
   "metadata": {},
   "source": [
    "#### 1.1 Census data"
   ]
  },
  {
   "cell_type": "code",
   "execution_count": 5,
   "metadata": {},
   "outputs": [
    {
     "name": "stdout",
     "output_type": "stream",
     "text": [
      "Downloading date: 26-05-2020 18:38:33\n",
      "Downloading date: 26-05-2020 19:00:47\n",
      "Downloading date: 26-05-2020 19:16:11\n",
      "Wall time: 46min 14s\n"
     ]
    }
   ],
   "source": [
    "%%time\n",
    "# Download the data for British Columbia\n",
    "url = 'https://www12.statcan.gc.ca/census-recensement/2016/dp-pd/prof/details/download-telecharger/comp/GetFile.cfm?Lang=E&FILETYPE=CSV&GEONO=044_BRITISH_COLUMBIA'\n",
    "r = requests.get(url)\n",
    "z = zipfile.ZipFile(io.BytesIO(r.content))\n",
    "\n",
    "directory = \"../data/raw/census/canada/\"\n",
    "if not os.path.exists(directory):\n",
    "    print(f'Succefully created new directory {directory}')\n",
    "    os.makedirs(directory)\n",
    "    \n",
    "z.extractall(path=directory)\n",
    "print(f'Downloading date: {datetime.today().strftime(\"%d-%m-%Y %H:%M:%S\")}')\n",
    "\n",
    "# Download the data for Ontario\n",
    "url = 'https://www12.statcan.gc.ca/census-recensement/2016/dp-pd/prof/details/download-telecharger/comp/GetFile.cfm?Lang=E&FILETYPE=CSV&GEONO=044_ONTARIO'\n",
    "r = requests.get(url)\n",
    "z = zipfile.ZipFile(io.BytesIO(r.content))\n",
    "\n",
    "directory = \"../data/raw/census/canada/\"\n",
    "if not os.path.exists(directory):\n",
    "    print(f'Succefully created new directory {directory}')\n",
    "    os.makedirs(directory)\n",
    "    \n",
    "z.extractall(path=directory)\n",
    "print(f'Downloading date: {datetime.today().strftime(\"%d-%m-%Y %H:%M:%S\")}')\n",
    "\n",
    "# Download the data for Quebec\n",
    "url = 'https://www12.statcan.gc.ca/census-recensement/2016/dp-pd/prof/details/download-telecharger/comp/GetFile.cfm?Lang=E&FILETYPE=CSV&GEONO=044_QUEBEC'\n",
    "r = requests.get(url)\n",
    "z = zipfile.ZipFile(io.BytesIO(r.content))\n",
    "\n",
    "directory = \"../data/raw/census/canada/\"\n",
    "if not os.path.exists(directory):\n",
    "    print(f'Succefully created new directory {directory}')\n",
    "    os.makedirs(directory)\n",
    "    \n",
    "z.extractall(path=directory)\n",
    "print(f'Downloading date: {datetime.today().strftime(\"%d-%m-%Y %H:%M:%S\")}')"
   ]
  },
  {
   "cell_type": "markdown",
   "metadata": {},
   "source": [
    "#### 1.2 Geographic boundaries"
   ]
  },
  {
   "cell_type": "code",
   "execution_count": 6,
   "metadata": {},
   "outputs": [
    {
     "name": "stdout",
     "output_type": "stream",
     "text": [
      "Succefully created new directory ../data/raw/geometry/\n",
      "Downloading date: 02-05-2020 11:56:23\n",
      "Wall time: 2min 35s\n"
     ]
    }
   ],
   "source": [
    "%%time\n",
    "url = 'http://www12.statcan.gc.ca/census-recensement/2011/geo/bound-limit/files-fichiers/2016/lda_000b16a_e.zip'\n",
    "r = requests.get(url)\n",
    "z = zipfile.ZipFile(io.BytesIO(r.content))\n",
    "\n",
    "directory = \"../data/raw/geometry/\"\n",
    "if not os.path.exists(directory):\n",
    "    print(f'Succefully created new directory {directory}')\n",
    "    os.makedirs(directory)\n",
    "\n",
    "z.extractall(path=directory)\n",
    "print(f'Downloading date: {datetime.today().strftime(\"%d-%m-%Y %H:%M:%S\")}')"
   ]
  },
  {
   "cell_type": "markdown",
   "metadata": {},
   "source": [
    "## 2. United States"
   ]
  },
  {
   "cell_type": "markdown",
   "metadata": {},
   "source": [
    "#### 1.1 Census data and Geographic Boundaries"
   ]
  },
  {
   "cell_type": "code",
   "execution_count": 2,
   "metadata": {},
   "outputs": [
    {
     "name": "stdout",
     "output_type": "stream",
     "text": [
      "City collected successfully!\n",
      "Wall time: 1h 49min 35s\n"
     ]
    }
   ],
   "source": [
    "%%time\n",
    "from src.data.census.usa.prepare_us_data import retrieve_us_data\n",
    "\n",
    "# chicago = [17, 14000]\n",
    "# NYC = [36, 51000]\n",
    "# SF = [int('06'), 67000]\n",
    "# philadelphia = [42, 60000]\n",
    "# houston = [48, 35000]\n",
    "boston = [25, int('07000')]\n",
    "# seattle = [53, 63000]\n",
    "# miami = [12, 45000]\n",
    "# LA = [int('06'), 44000]\n",
    "san_diego\n",
    "DC\n",
    "portland\n",
    "baltimore\n",
    "sacramento\n",
    "atlanta\n",
    "minneapolis\n",
    "pittsburgh\n",
    "denver\n",
    "\n",
    "cities_geo = [LA]\n",
    "\n",
    "# retrieve vars of interest for chicago, NYC, and SF\n",
    "LA_data = retrieve_us_data(cities_geo = cities_geo, year = 2017)"
   ]
  },
  {
   "cell_type": "code",
   "execution_count": 4,
   "metadata": {},
   "outputs": [],
   "source": [
    "# Save the raw data\n",
    "city = 'los_angeles'\n",
    "\n",
    "directory = \"../../data/raw/census/united_states/\"\n",
    "if not os.path.exists(directory):\n",
    "    print(f'Succefully created new directory {directory}')\n",
    "    os.makedirs(directory)\n",
    "    \n",
    "# houston_data[0].to_file(directory + f'{city.lower()}.shp', index=False)\n",
    "LA_data[0].to_csv(directory + f'{city.lower()}.csv', index=False)\n",
    "LA_data[0].to_file(directory + f'{city.lower()}.geojson', driver='GeoJSON')"
   ]
  },
  {
   "cell_type": "markdown",
   "metadata": {
    "Collapsed": "false",
    "toc-hr-collapsed": true,
    "toc-nb-collapsed": true
   },
   "source": [
    "### References\n",
    "1. Statistics Canda (2020). Census Profile, 2016 Census. Retrieved from https://www12.statcan.gc.ca/census-recensement/2016/dp-pd/prof/details/download-telecharger/comp/page_dl-tc.cfm?Lang=E\n",
    "2. Statistics Canda (2020). 2016 Census - Boundary files. Retrieved from http://www12.statcan.gc.ca/census-recensement/2011/geo/bound-limit/files-fichiers/2016/lda_000b16a_e.zip\n",
    "3. American Community Survey 5 Year. Retrieved from https://www.census.gov/data/developers/data-sets/acs-5year.html\n",
    "4. US Census API wrapper: https://pypi.org/project/census-area/\n",
    "5. US counties FIPS codes. Retrieved from https://www.nrcs.usda.gov/wps/portal/nrcs/detail/ca/home/?cid=nrcs143_013697\n",
    "6. Variable Information for ACS5 census dataset. Retrieved from https://api.census.gov/data/2018/acs/acs5/variables.html"
   ]
  }
 ],
 "metadata": {
  "kernelspec": {
   "display_name": "Python 3",
   "language": "python",
   "name": "python3"
  },
  "language_info": {
   "codemirror_mode": {
    "name": "ipython",
    "version": 3
   },
   "file_extension": ".py",
   "mimetype": "text/x-python",
   "name": "python",
   "nbconvert_exporter": "python",
   "pygments_lexer": "ipython3",
   "version": "3.7.3"
  }
 },
 "nbformat": 4,
 "nbformat_minor": 4
}
