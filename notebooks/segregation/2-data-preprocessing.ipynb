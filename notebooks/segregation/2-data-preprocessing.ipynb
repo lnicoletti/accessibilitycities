{
 "cells": [
  {
   "cell_type": "markdown",
   "metadata": {},
   "source": [
    "### Step 2: Data preprocessing\n",
    "\n",
    "__Step goal__: Prepare data for further usage.\n",
    "\n",
    "__Step overview__:\n",
    "1. Load the data;\n",
    "2. Select the city and prepare the data;\n",
    "3. Save the output."
   ]
  },
  {
   "cell_type": "code",
   "execution_count": 1,
   "metadata": {},
   "outputs": [],
   "source": [
    "%load_ext autoreload\n",
    "%autoreload 2"
   ]
  },
  {
   "cell_type": "code",
   "execution_count": 1,
   "metadata": {},
   "outputs": [],
   "source": [
    "import pandas as pd\n",
    "import geopandas as gpd\n",
    "import numpy as np\n",
    "import os\n",
    "from src.data.census.canada.prepare_ca_data import prepare_ca_data\n",
    "from src.data.census.usa.prepare_us_data import prepare_us_data"
   ]
  },
  {
   "cell_type": "markdown",
   "metadata": {},
   "source": [
    "## 1. Canada"
   ]
  },
  {
   "cell_type": "markdown",
   "metadata": {},
   "source": [
    "#### 1.1 Load the data"
   ]
  },
  {
   "cell_type": "code",
   "execution_count": 4,
   "metadata": {},
   "outputs": [
    {
     "name": "stdout",
     "output_type": "stream",
     "text": [
      "Wall time: 2min 12s\n"
     ]
    }
   ],
   "source": [
    "%%time\n",
    "# Load the data\n",
    "\n",
    "# Select province\n",
    "province = 'ONTARIO'\n",
    "\n",
    "directory = \"../data/raw/census/canada/\"\n",
    "\n",
    "df = pd.read_csv(directory + f'98-401-X2016044_{province}_English_CSV_data.csv', low_memory=False)\n",
    "gdf = gpd.read_file('../data/raw/geometry/lda_000b16a_e.shp')"
   ]
  },
  {
   "cell_type": "markdown",
   "metadata": {},
   "source": [
    "#### 1.2 Prepare the data"
   ]
  },
  {
   "cell_type": "code",
   "execution_count": 7,
   "metadata": {},
   "outputs": [
    {
     "name": "stdout",
     "output_type": "stream",
     "text": [
      "The number of polygons in the shape file = 3702\n",
      "The number of polygons in data file = 3702\n",
      "Total number of variables = 2247\n"
     ]
    }
   ],
   "source": [
    "city = 'Toronto'\n",
    "city_geo = '35201588' # Vancouver = 59150701, Toronto = 35201588, Montreal = 24661006\n",
    "data = prepare_ca_data(df, gdf, city=city)"
   ]
  },
  {
   "cell_type": "markdown",
   "metadata": {},
   "source": [
    "#### 1.3 Save geometry, variable names and data"
   ]
  },
  {
   "cell_type": "code",
   "execution_count": 11,
   "metadata": {},
   "outputs": [],
   "source": [
    "# Save geometry\n",
    "geometry = gdf[gdf['CCSNAME'] == city].set_index('DAUID')['geometry']\n",
    "directory = \"../data/processed/geometry/canada/\"\n",
    "if not os.path.exists(directory):\n",
    "    print(f'Succefully created new directory {directory}')\n",
    "    os.makedirs(directory)\n",
    "geometry.to_file(directory + f'{city.lower()}.json', driver='GeoJSON')"
   ]
  },
  {
   "cell_type": "code",
   "execution_count": 9,
   "metadata": {},
   "outputs": [],
   "source": [
    "# Create a hexgrid\n"
   ]
  },
  {
   "cell_type": "code",
   "execution_count": 10,
   "metadata": {},
   "outputs": [],
   "source": [
    "# Save variable names and ids\n",
    "directory = \"../data/interim/census/\"\n",
    "if not os.path.exists(directory):\n",
    "    print(f'Succefully created new directory {directory}')\n",
    "    os.makedirs(directory)\n",
    "\n",
    "data[data['GEO_NAME'] == city_geo][['DIM: Profile of Dissemination Areas (2247)', 'variable_id']].to_csv(directory + f'{city.lower()}_variable_names.csv', index=False)\n",
    "data = data.drop('DIM: Profile of Dissemination Areas (2247)', axis=1)"
   ]
  },
  {
   "cell_type": "code",
   "execution_count": 11,
   "metadata": {},
   "outputs": [],
   "source": [
    "# Save the data\n",
    "directory = \"../data/processed/census/canada/\"\n",
    "if not os.path.exists(directory):\n",
    "    print(f'Succefully created new directory {directory}')\n",
    "    os.makedirs(directory)\n",
    "\n",
    "# Transform and save the data\n",
    "data.pivot_table('Dim: Sex (3): Member ID: [1]: Total - Sex', index='GEO_NAME', columns='variable_id').to_csv(directory + f'{city.lower()}.csv')"
   ]
  },
  {
   "cell_type": "markdown",
   "metadata": {},
   "source": [
    "## 2. United States"
   ]
  },
  {
   "cell_type": "markdown",
   "metadata": {},
   "source": [
    "#### 2.1 Load the data"
   ]
  },
  {
   "cell_type": "code",
   "execution_count": 87,
   "metadata": {},
   "outputs": [
    {
     "name": "stdout",
     "output_type": "stream",
     "text": [
      "Wall time: 719 ms\n"
     ]
    }
   ],
   "source": [
    "%%time\n",
    "directory = \"../../data/raw/census/united_states/\"\n",
    "city = \"san_francisco\"\n",
    "# Load the data\n",
    "gdf = gpd.read_file(directory + f'{city}.geojson', low_memory=False)"
   ]
  },
  {
   "cell_type": "markdown",
   "metadata": {},
   "source": [
    "#### 2.2 Prepare the data"
   ]
  },
  {
   "cell_type": "code",
   "execution_count": 88,
   "metadata": {},
   "outputs": [],
   "source": [
    "if city == \"san_francisco\":   \n",
    "    # drop rows outside of city limits: 267, 549, 581\n",
    "    gdf.drop([266, 548, 580], axis = 0, inplace=True)  \n",
    "\n",
    "if city == \"miami\":   \n",
    "    # drop rows outside of city limits: 218, 219\n",
    "    gdf.drop([218, 219], axis = 0, inplace=True) \n",
    "    \n",
    "if city == \"seattle\":   \n",
    "    # drop rows outside of city limits: 218, 219\n",
    "    gdf.drop([425], axis = 0, inplace=True) \n",
    "    \n",
    "if city == \"los_angeles\":   \n",
    "    # drop rows outside of city limits: 218, 219\n",
    "    gdf.drop([2501], axis = 0, inplace=True) "
   ]
  },
  {
   "cell_type": "code",
   "execution_count": 89,
   "metadata": {},
   "outputs": [
    {
     "name": "stdout",
     "output_type": "stream",
     "text": [
      "The number of polygons in the shape file = 579\n",
      "The number of polygons in data file = 579\n",
      "Total number of variables = 65\n"
     ]
    }
   ],
   "source": [
    "data = prepare_us_data(gdf)  "
   ]
  },
  {
   "cell_type": "markdown",
   "metadata": {},
   "source": [
    "#### 2.3 Save geometry and data"
   ]
  },
  {
   "cell_type": "code",
   "execution_count": 90,
   "metadata": {},
   "outputs": [],
   "source": [
    "# Save geometry\n",
    "geometry = gdf.set_index('GEOID')['geometry']\n",
    "directory = \"../../data/processed/geometry/united_states/\"\n",
    "if not os.path.exists(directory):\n",
    "    print(f'Succefully created new directory {directory}')\n",
    "    os.makedirs(directory)\n",
    "geometry.to_file(directory + f'{city.lower()}.geojson', driver='GeoJSON')"
   ]
  },
  {
   "cell_type": "code",
   "execution_count": 91,
   "metadata": {},
   "outputs": [],
   "source": [
    "# Save the data\n",
    "directory = \"../../data/processed/census/united_states/\"\n",
    "if not os.path.exists(directory):\n",
    "    print(f'Succefully created new directory {directory}')\n",
    "    os.makedirs(directory)\n",
    "\n",
    "# Transform and save the data\n",
    "data.to_csv(directory + f'{city.lower()}.csv')"
   ]
  }
 ],
 "metadata": {
  "kernelspec": {
   "display_name": "Python 3",
   "language": "python",
   "name": "python3"
  },
  "language_info": {
   "codemirror_mode": {
    "name": "ipython",
    "version": 3
   },
   "file_extension": ".py",
   "mimetype": "text/x-python",
   "name": "python",
   "nbconvert_exporter": "python",
   "pygments_lexer": "ipython3",
   "version": "3.7.3"
  }
 },
 "nbformat": 4,
 "nbformat_minor": 4
}
