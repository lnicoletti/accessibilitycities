{
 "cells": [
  {
   "cell_type": "markdown",
   "metadata": {},
   "source": [
    "### Step 3: Variable preparation\n",
    "\n",
    "__Step goal__: Select and scale variables for clustering.\n",
    "\n",
    "__Step overview__:\n",
    "1. Load the data;\n",
    "2. Select and scale variables?;\n",
    "3. Save the result."
   ]
  },
  {
   "cell_type": "code",
   "execution_count": 1,
   "metadata": {},
   "outputs": [],
   "source": [
    "%load_ext autoreload\n",
    "%autoreload 2"
   ]
  },
  {
   "cell_type": "code",
   "execution_count": 1,
   "metadata": {},
   "outputs": [],
   "source": [
    "import pandas as pd\n",
    "import geopandas as gpd\n",
    "import numpy as np\n",
    "import itertools\n",
    "import matplotlib.pyplot as plt\n",
    "import seaborn as sns\n",
    "from src.data.census.canada.prepare_ca_data import scale_ca_variables, select_ca_variables\n",
    "from src.data.census.usa.prepare_us_data import scale_us_variables, select_us_variables\n",
    "import os"
   ]
  },
  {
   "cell_type": "markdown",
   "metadata": {},
   "source": [
    "## 1. Canada"
   ]
  },
  {
   "cell_type": "markdown",
   "metadata": {},
   "source": [
    "#### 1.1 Load the data"
   ]
  },
  {
   "cell_type": "code",
   "execution_count": 8,
   "metadata": {},
   "outputs": [
    {
     "name": "stdout",
     "output_type": "stream",
     "text": [
      "Wall time: 1.81 s\n"
     ]
    }
   ],
   "source": [
    "%%time\n",
    "# Load the data\n",
    "extended_variables = True\n",
    "city = 'Montréal'\n",
    "df = pd.read_csv(f'../../data/processed/census/canada/{city}.csv') # data"
   ]
  },
  {
   "cell_type": "markdown",
   "metadata": {},
   "source": [
    "#### 1.2 Select and scale the variables of interest"
   ]
  },
  {
   "cell_type": "code",
   "execution_count": 9,
   "metadata": {},
   "outputs": [
    {
     "name": "stdout",
     "output_type": "stream",
     "text": [
      "['Population density per square kilometre',\n",
      " 'Average age of the population',\n",
      " 'Canadian citizens',\n",
      " 'Not Canadian citizens',\n",
      " 'Non-immigrants',\n",
      " 'Immigrants',\n",
      " 'First generation',\n",
      " 'Second generation',\n",
      " 'Third generation or more',\n",
      " 'Aboriginal identity',\n",
      " 'Non-Aboriginal identity',\n",
      " 'Total visible minority population',\n",
      " 'Number of persons in private households',\n",
      " 'Married',\n",
      " 'Not married and not living common law',\n",
      " 'Total couple families',\n",
      " 'Total lone-parent families by sex of parent',\n",
      " 'English only',\n",
      " 'French only',\n",
      " 'English and French',\n",
      " 'Neither English nor French',\n",
      " 'Average total income in 2015 among recipients ($)',\n",
      " 'Spending less than 30% of income on shelter costs',\n",
      " 'Spending 30% or more of income on shelter costs',\n",
      " 'Owner',\n",
      " 'Renter',\n",
      " 'Average value of dwellings ($)',\n",
      " 'Average monthly shelter costs for rented dwellings ($)',\n",
      " 'Average number of rooms per dwelling',\n",
      " 'No certificate, diploma or degree',\n",
      " 'Secondary (high) school diploma or equivalency certificate',\n",
      " 'Postsecondary certificate, diploma or degree',\n",
      " 'Employed',\n",
      " 'Unemployed']\n",
      "Number of variables selected : 34\n"
     ]
    }
   ],
   "source": [
    "# scale variables: NEED TO SCALE FIRST because the scaling function assumes that the dataset is complete, anything can be selected afterwards\n",
    "df = scale_ca_variables(df)\n",
    "\n",
    "# select variables\n",
    "variable_names, data = select_ca_variables(city, df, return_names=True, print_selected=True, include_occupation=False, include_commute=False, extended_variables=extended_variables)\n",
    "data = data.apply(pd.to_numeric, axis=1)\n",
    "print(f'Number of variables selected : {data.shape[1]}')"
   ]
  },
  {
   "cell_type": "markdown",
   "metadata": {},
   "source": [
    "#### 1.3 Save selected variables"
   ]
  },
  {
   "cell_type": "code",
   "execution_count": 10,
   "metadata": {},
   "outputs": [],
   "source": [
    "# Save the variables\n",
    "directory = \"../../variables/\"\n",
    "if not os.path.exists(directory):\n",
    "    print(f'Succefully created new directory {directory}')\n",
    "    os.makedirs(directory)\n",
    "    \n",
    "if extended_variables == False:\n",
    "    data.to_csv(directory + f'{city.lower()}_short.csv', index=False)\n",
    "    pd.DataFrame(variable_names, columns=['variable_name']).to_csv(directory + f'{city.lower()}_short_variable_names.csv', index=False)\n",
    "else:\n",
    "    data.to_csv(directory + f'{city.lower()}.csv', index=False)\n",
    "    pd.DataFrame(variable_names, columns=['variable_name']).to_csv(directory + f'{city.lower()}_variable_names.csv', index=False)"
   ]
  },
  {
   "cell_type": "markdown",
   "metadata": {},
   "source": [
    "## 2. United States"
   ]
  },
  {
   "cell_type": "markdown",
   "metadata": {},
   "source": [
    "#### 2.1 Load the data"
   ]
  },
  {
   "cell_type": "code",
   "execution_count": 17,
   "metadata": {},
   "outputs": [
    {
     "name": "stdout",
     "output_type": "stream",
     "text": [
      "Wall time: 23.9 ms\n"
     ]
    }
   ],
   "source": [
    "%%time\n",
    "extended_variables = True\n",
    "# Load the data\n",
    "city = 'san_francisco'\n",
    "df = pd.read_csv(f'../../data/processed/census/united_states/{city}.csv') # data"
   ]
  },
  {
   "cell_type": "markdown",
   "metadata": {},
   "source": [
    "#### 2.2 Select and scale the variables of interest"
   ]
  },
  {
   "cell_type": "code",
   "execution_count": 18,
   "metadata": {},
   "outputs": [
    {
     "name": "stdout",
     "output_type": "stream",
     "text": [
      "Index(['population', 'age', 'white', 'minority', 'tot_households',\n",
      "       'average_household_size', 'married_households', 'nonfamily_households',\n",
      "       'median_household_income', 'owner', 'renter', 'median_gross_rent',\n",
      "       'tot_gross_rent_as_percent_of_income', 'less_than_30_of_income',\n",
      "       'more_than_30_of_income', 'median_gross_rent_as_percent_of_income',\n",
      "       'median_n_rooms', 'less_than_high_school', 'high_school',\n",
      "       'bachelors_degree', 'masters_degree', 'professional_school_degree',\n",
      "       'doctorate_degree', 'employed', 'unemployed'],\n",
      "      dtype='object')\n",
      "Number of variables selected : 25\n"
     ]
    }
   ],
   "source": [
    "# scale variables: NEED TO SCALE FIRST because the scaling function assumes that the dataset is complete, anything can be selected afterwards\n",
    "df = scale_us_variables(df)\n",
    "# select variables\n",
    "data = select_us_variables(df, print_selected=True, extended_variables = extended_variables)\n",
    "data = data.apply(pd.to_numeric, axis=1)\n",
    "print(f'Number of variables selected : {data.shape[1]}')"
   ]
  },
  {
   "cell_type": "markdown",
   "metadata": {},
   "source": [
    "### 2.3 Save selected variables"
   ]
  },
  {
   "cell_type": "code",
   "execution_count": 19,
   "metadata": {},
   "outputs": [],
   "source": [
    "# Save the variables\n",
    "directory = \"../../variables/\"\n",
    "if not os.path.exists(directory):\n",
    "    print(f'Succefully created new directory {directory}')\n",
    "    os.makedirs(directory)\n",
    "    \n",
    "if extended_variables == False:\n",
    "    data.to_csv(directory + f'{city.lower()}_short.csv', index=False)\n",
    "else:\n",
    "    data.to_csv(directory + f'{city.lower()}.csv', index=False)"
   ]
  }
 ],
 "metadata": {
  "kernelspec": {
   "display_name": "Python 3",
   "language": "python",
   "name": "python3"
  },
  "language_info": {
   "codemirror_mode": {
    "name": "ipython",
    "version": 3
   },
   "file_extension": ".py",
   "mimetype": "text/x-python",
   "name": "python",
   "nbconvert_exporter": "python",
   "pygments_lexer": "ipython3",
   "version": "3.7.3"
  }
 },
 "nbformat": 4,
 "nbformat_minor": 4
}
