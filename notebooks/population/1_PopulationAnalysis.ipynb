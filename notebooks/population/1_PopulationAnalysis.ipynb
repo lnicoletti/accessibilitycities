{
 "cells": [
  {
   "cell_type": "markdown",
   "metadata": {},
   "source": [
    "# Visualizing Accessibility to Urban Infrastructure\n",
    "\n",
    "1. Visualize Distributions\n",
    "2. Compare cities\n",
    "3. Visualize individual categories\n",
    "4. Plot bubble maps for amenities\n",
    "5. Plot hex maps"
   ]
  },
  {
   "cell_type": "code",
   "execution_count": 1,
   "metadata": {},
   "outputs": [],
   "source": [
    "%matplotlib inline\n",
    "import glob\n",
    "import geopandas as gpd\n",
    "import pandas as pd\n",
    "import numpy as np\n",
    "import os\n",
    "from scipy.stats import mstats\n",
    "from shapely.geometry import Polygon\n",
    "import seaborn as sns\n",
    "from urban_access.data.urban_access import create_hexgrid, create_hex_access\n",
    "directory = os.chdir(r'C:\\Users\\Leonardo\\OneDrive\\Documents\\TU_Delft\\CodingProjects\\UrbanAccessibility')"
   ]
  },
  {
   "cell_type": "code",
   "execution_count": 63,
   "metadata": {},
   "outputs": [],
   "source": [
    "# from shapely.geometry import box\n",
    "\n",
    "# # define function for creating hex access (takes access points)\n",
    "# def access(data):\n",
    "    \n",
    "#     # create bbox gdf\n",
    "#     b = box(data['geometry'].total_bounds[0], data['geometry'].total_bounds[1], \n",
    "#             data['geometry'].total_bounds[2], data['geometry'].total_bounds[3])\n",
    "    \n",
    "#     d = {'col1': ['name1'], 'geometry': b}\n",
    "#     bbox = gpd.GeoDataFrame(d, crs=\"EPSG:4326\")\n",
    "    \n",
    "#     hex_res = 9\n",
    "    \n",
    "#     # create hexgrid\n",
    "#     hexgrid = create_hexgrid(bbox.to_crs(epsg=4326), hex_res=hex_res, plot=False)\n",
    "#     hexgrid.reset_index(drop=True, inplace=True)\n",
    "#     hexgrid.crs = {'init': 'epsg:4326', 'no_defs': True}\n",
    "    \n",
    "#     # compute accessibility\n",
    "#     access = create_hex_access(access = data, hexgrid = hexgrid, fillna = None, fillna_value = None)\n",
    "    \n",
    "#     return access"
   ]
  },
  {
   "cell_type": "code",
   "execution_count": 69,
   "metadata": {},
   "outputs": [],
   "source": [
    "# files = sorted(glob.glob(\"data/interim/accessibility/old/pois/points_access/*_access.shp\"))\n",
    "\n",
    "\n",
    "# for file_path in files[15:]:\n",
    "#     file_name = os.path.basename(file_path).split(\"_\")[0]\n",
    "    \n",
    "#     print(\"Processing \" + file_name + \"...\")\n",
    "#     # 1 read the file\n",
    "#     gdf = gpd.read_file(file_path)\n",
    "#     print(file_name + \" gdf read successfully!\")\n",
    "#     # 2 apply function to the file\n",
    "#     access_gdf = access(data=gdf)\n",
    "#     print(file_name + \" access hexgrid created!\")\n",
    "#     # 3 export file using file name structure\n",
    "#     access_gdf.to_file(f\"data/interim/accessibility/new/poly/hex/{file_name}_hex_access.json\", driver='GeoJSON')\n",
    "    \n",
    "#     print(\"Processed and saved \" + file_name + \"!\")"
   ]
  },
  {
   "cell_type": "code",
   "execution_count": 34,
   "metadata": {},
   "outputs": [
    {
     "name": "stdout",
     "output_type": "stream",
     "text": [
      "Reading AK...\n",
      "AK gdf read successfully!\n",
      "Reading AM...\n",
      "AM gdf read successfully!\n",
      "Reading AT...\n",
      "AT gdf read successfully!\n",
      "Reading BA...\n",
      "BA gdf read successfully!\n",
      "Reading BE...\n",
      "BE gdf read successfully!\n",
      "Reading BG...\n",
      "BG gdf read successfully!\n",
      "Reading BJ...\n",
      "BJ gdf read successfully!\n",
      "Reading BK...\n",
      "BK gdf read successfully!\n",
      "Reading BUA...\n",
      "BUA gdf read successfully!\n",
      "Reading BU...\n",
      "BU gdf read successfully!\n",
      "Reading CC...\n",
      "CC gdf read successfully!\n",
      "Reading CE...\n",
      "CE gdf read successfully!\n",
      "Reading CHI...\n",
      "CHI gdf read successfully!\n",
      "Reading CO...\n",
      "CO gdf read successfully!\n",
      "Reading CP...\n",
      "CP gdf read successfully!\n",
      "Reading CS...\n",
      "CS gdf read successfully!\n",
      "Reading CTO...\n",
      "CTO gdf read successfully!\n",
      "Reading CT...\n",
      "CT gdf read successfully!\n",
      "Reading DHAG...\n",
      "DHAG gdf read successfully!\n",
      "Reading DU...\n",
      "DU gdf read successfully!\n",
      "Reading ED...\n",
      "ED gdf read successfully!\n",
      "Reading HCM...\n",
      "HCM gdf read successfully!\n",
      "Reading HOUST...\n",
      "HOUST gdf read successfully!\n",
      "Reading IS...\n",
      "IS gdf read successfully!\n",
      "Reading JK...\n",
      "JK gdf read successfully!\n",
      "Reading LANG...\n",
      "LANG gdf read successfully!\n",
      "Reading LB...\n",
      "LB gdf read successfully!\n",
      "Reading LI...\n",
      "LI gdf read successfully!\n",
      "Reading LO...\n",
      "LO gdf read successfully!\n",
      "Reading MA...\n",
      "MA gdf read successfully!\n",
      "Reading MC...\n",
      "MC gdf read successfully!\n",
      "Reading MEL...\n",
      "MEL gdf read successfully!\n",
      "Reading ME...\n",
      "ME gdf read successfully!\n",
      "Reading MIAMI...\n",
      "MIAMI gdf read successfully!\n",
      "Reading MI...\n",
      "MI gdf read successfully!\n",
      "Reading MLA...\n",
      "MLA gdf read successfully!\n",
      "Reading MM...\n",
      "MM gdf read successfully!\n",
      "Reading MO...\n",
      "MO gdf read successfully!\n",
      "Reading MT...\n",
      "MT gdf read successfully!\n",
      "Reading MV...\n",
      "MV gdf read successfully!\n",
      "Reading MW...\n",
      "MW gdf read successfully!\n",
      "Reading MX...\n",
      "MX gdf read successfully!\n",
      "Reading NA...\n",
      "NA gdf read successfully!\n",
      "Reading NTH...\n",
      "NTH gdf read successfully!\n",
      "Reading NYC...\n",
      "NYC gdf read successfully!\n",
      "Reading PHILLY...\n",
      "PHILLY gdf read successfully!\n",
      "Reading PHILL...\n",
      "PHILL gdf read successfully!\n",
      "Reading PS...\n",
      "PS gdf read successfully!\n",
      "Reading RIO...\n",
      "RIO gdf read successfully!\n",
      "Reading RO...\n",
      "RO gdf read successfully!\n",
      "Reading SE...\n",
      "SE gdf read successfully!\n",
      "Reading SF...\n",
      "SF gdf read successfully!\n",
      "Reading SGO...\n",
      "SGO gdf read successfully!\n",
      "Reading SG...\n",
      "SG gdf read successfully!\n",
      "Reading SO...\n",
      "SO gdf read successfully!\n",
      "Reading SP...\n",
      "SP gdf read successfully!\n",
      "Reading ST...\n",
      "ST gdf read successfully!\n",
      "Reading SY...\n",
      "SY gdf read successfully!\n",
      "Reading TK...\n",
      "TK gdf read successfully!\n",
      "Reading TP...\n",
      "TP gdf read successfully!\n",
      "Reading WA...\n",
      "WA gdf read successfully!\n",
      "Reading ZU...\n",
      "ZU gdf read successfully!\n"
     ]
    }
   ],
   "source": [
    "# read all files \n",
    "# files = sorted(glob.glob(\"data/interim/accessibility/old/pois/points_access/*_access.shp\"))\n",
    "files = sorted(glob.glob(\"../UrbanAccessibility_NA/data/processed/accessibility/pois/points_access/*_access.shp\"))\n",
    "\n",
    "# files[:2]\n",
    "file_names = []\n",
    "\n",
    "for file_path in files:\n",
    "    file_name = os.path.basename(file_path).split(\"_\")[0]\n",
    "    \n",
    "    print(\"Reading \" + file_name + \"...\")\n",
    "    # 1 read the file\n",
    "    exec(f'{file_name}_access = gpd.read_file(file_path)')\n",
    "#     gdf = gpd.read_file(file_path)\n",
    "    print(file_name + \" gdf read successfully!\")\n",
    "    file_names.append(f'{file_name}_access')"
   ]
  },
  {
   "cell_type": "code",
   "execution_count": 35,
   "metadata": {},
   "outputs": [],
   "source": [
    "# # directory = os.chdir(r'C:\\Users\\Leonardo\\OneDrive\\Documents\\TU_Delft\\CodingProjects\\UrbanAccessibility_NA')\n",
    "# # read all files \n",
    "# files2 = sorted(glob.glob(\"../UrbanAccessibility_NA/data/processed/accessibility/pois/points_access/*_access.shp\"))\n",
    "# # files[:2]\n",
    "# file_names2 = []\n",
    "\n",
    "# for file_path in files2:\n",
    "#     file_name = os.path.basename(file_path).split(\"_\")[0]\n",
    "#     file_names2.append(f'{file_name}_access')\n",
    "#     for file_name in file_names2:\n",
    "#         if file_name not in file_names:\n",
    "\n",
    "#             print(\"Reading \" + file_name + \"...\")\n",
    "#     # 1 read the file\n",
    "# #     exec(f'{file_name}_access = gpd.read_file(file_path)')\n",
    "# # #     gdf = gpd.read_file(file_path)\n",
    "# #     print(file_name + \" gdf read successfully!\")"
   ]
  },
  {
   "cell_type": "code",
   "execution_count": 2,
   "metadata": {},
   "outputs": [],
   "source": [
    "# load accessibility files OLD METHOD\n",
    "CHI_access = gpd.read_file(\"data/interim/accessibility/new/poly/hex/CHI_hex_access.shp\")\n",
    "NYC_access = gpd.read_file(\"data/interim/accessibility/old/poly/hex/NYC_hex_access.shp\")\n",
    "SE_access = gpd.read_file(\"data/interim/accessibility/old/poly/hex/SE_hex_access.shp\")\n",
    "CV_access = gpd.read_file(\"data/interim/accessibility/old/poly/hex/CV_hex_access_score.shp\")\n",
    "CTO_access = gpd.read_file(\"data/interim/accessibility/old/poly/hex/CTO_hex_access_score.shp\")\n",
    "CM_access = gpd.read_file(\"data/interim/accessibility/old/poly/hex/CM_hex_access_score.shp\")\n",
    "CO_access = gpd.read_file(\"data/interim/accessibility/old/poly/hex/CO_hex_access_score.shp\")\n",
    "CE_access = gpd.read_file(\"data/interim/accessibility/old/poly/hex/CE_hex_access_score.shp\")\n",
    "CC_access = gpd.read_file(\"data/interim/accessibility/old/poly/hex/CC_hex_access_score.shp\")\n",
    "PS_access = gpd.read_file(\"data/interim/accessibility/old/poly/hex/PS_hex_access.shp\")\n",
    "SP_access = gpd.read_file(\"data/interim/accessibility/old/poly/hex/SP_hex_access.shp\")\n",
    "MX_access = gpd.read_file(\"data/interim/accessibility/old/poly/hex/MX_hex_access_score.shp\")\n",
    "LO_access = gpd.read_file(\"data/interim/accessibility/old/poly/hex/LO_hex_access_score.shp\")\n",
    "MEL_access = gpd.read_file(\"data/interim/accessibility/old/poly/hex/MEL_hex_access_score.shp\")\n",
    "SY_access = gpd.read_file(\"data/interim/accessibility/old/poly/hex/SY_hex_access_score.shp\")\n",
    "SG_access = gpd.read_file(\"data/interim/accessibility/old/poly/hex/SG_hex_access_score.shp\")\n",
    "BJ_access = gpd.read_file(\"data/interim/accessibility/old/poly/hex/BJ_hex_access_score.shp\")\n",
    "MA_access = gpd.read_file(\"data/interim/accessibility/old/poly/hex/MA_hex_access_score.shp\")\n",
    "MI_access = gpd.read_file(\"data/interim/accessibility/old/poly/hex/MI_hex_access_score.shp\")\n",
    "BK_access = gpd.read_file(\"data/interim/accessibility/old/poly/hex/BK_hex_access_score.shp\")\n",
    "SO_access = gpd.read_file(\"data/interim/accessibility/old/poly/hex/SO_hex_access_score.shp\")\n",
    "RO_access = gpd.read_file(\"data/interim/accessibility/old/poly/hex/RO_hex_access_score.shp\")\n",
    "TP_access = gpd.read_file(\"data/interim/accessibility/old/poly/hex/TP_hex_access_score.shp\")\n",
    "BA_access = gpd.read_file(\"data/interim/accessibility/old/poly/hex/BA_hex_access_score.shp\")\n",
    "AM_access = gpd.read_file(\"data/interim/accessibility/old/poly/hex/AM_hex_access_score.shp\")\n",
    "BUA_access = gpd.read_file(\"data/interim/accessibility/old/poly/hex/BUA_hex_access_score.shp\")\n",
    "SGO_access = gpd.read_file(\"data/interim/accessibility/old/poly/hex/SGO_hex_access_score.shp\")\n",
    "IS_access = gpd.read_file(\"data/interim/accessibility/old/poly/hex/IS_hex_access_score.shp\")\n",
    "TK_access = gpd.read_file(\"data/interim/accessibility/old/poly/hex/TK_hex_access_score.shp\")\n",
    "RIO_access = gpd.read_file(\"data/interim/accessibility/old/poly/hex/RIO_hex_access_score.shp\")\n",
    "CT_access = gpd.read_file(\"data/interim/accessibility/old/poly/hex/CT_hex_access_score.shp\")\n",
    "BE_access = gpd.read_file(\"data/interim/accessibility/old/poly/hex/BE_hex_access_score.shp\")\n",
    "NA_access = gpd.read_file(\"data/interim/accessibility/old/poly/hex/NA_hex_access_score.shp\")\n",
    "MW_access = gpd.read_file(\"data/interim/accessibility/old/poly/hex/MW_hex_access_score.shp\")\n",
    "BG_access = gpd.read_file(\"data/interim/accessibility/old/poly/hex/BG_hex_access_score.shp\")\n",
    "MLA_access = gpd.read_file(\"data/interim/accessibility/old/poly/hex/MLA_hex_access_score.shp\")\n",
    "CP_access = gpd.read_file(\"data/interim/accessibility/old/poly/hex/CP_hex_access_score.shp\")\n",
    "AT_access = gpd.read_file(\"data/interim/accessibility/old/poly/hex/AT_hex_access_score.shp\")\n",
    "BU_access = gpd.read_file(\"data/interim/accessibility/old/poly/hex/BU_hex_access_score.shp\")\n",
    "JK_access = gpd.read_file(\"data/interim/accessibility/old/poly/hex/JK_hex_access_score.shp\")\n",
    "AK_access = gpd.read_file(\"data/interim/accessibility/old/poly/hex/AK_hex_access_score.shp\")\n",
    "DU_access = gpd.read_file(\"data/interim/accessibility/old/poly/hex/DU_hex_access_score.shp\")\n",
    "WA_access = gpd.read_file(\"data/interim/accessibility/old/poly/hex/WA_hex_access_score.shp\")\n",
    "ED_access = gpd.read_file(\"data/interim/accessibility/old/poly/hex/ED_hex_access_score.shp\")\n",
    "ST_access = gpd.read_file(\"data/interim/accessibility/old/poly/hex/ST_hex_access_score.shp\")\n",
    "ZU_access = gpd.read_file(\"data/interim/accessibility/old/poly/hex/ZU_hex_access_score.shp\")\n",
    "LB_access = gpd.read_file(\"data/interim/accessibility/old/poly/hex/LB_hex_access_score.shp\")\n",
    "HCM_access = gpd.read_file(\"data/interim/accessibility/old/poly/hex/HCM_hex_access_score.shp\")\n",
    "LI_access = gpd.read_file(\"data/interim/accessibility/old/poly/hex/LI_hex_access_score.shp\")"
   ]
  },
  {
   "cell_type": "code",
   "execution_count": 2,
   "metadata": {},
   "outputs": [],
   "source": [
    "# load accessibility files NEW METHOD\n",
    "# CHI_access = gpd.read_file(\"data/interim/accessibility/new/poly/hex/CHI_hex_access.json\", driver=\"GeoJSON\")\n",
    "# NYC_access = gpd.read_file(\"data/interim/accessibility/new/poly/hex/NYC_hex_access.json\", driver=\"GeoJSON\")\n",
    "# SE_access = gpd.read_file(\"data/interim/accessibility/new/poly/hex/SE_hex_access.json\", driver=\"GeoJSON\")\n",
    "CV_access = gpd.read_file(\"data/interim/accessibility/new/poly/hex/MV_hex_access.json\", driver=\"GeoJSON\")\n",
    "# CTO_access = gpd.read_file(\"data/interim/accessibility/new/poly/hex/MT_hex_access.json\", driver=\"GeoJSON\")\n",
    "# CM_access = gpd.read_file(\"data/interim/accessibility/new/poly/hex/MM_hex_access.json\", driver=\"GeoJSON\")\n",
    "CO_access = gpd.read_file(\"data/interim/accessibility/new/poly/hex/MO_hex_access.json\", driver=\"GeoJSON\")\n",
    "CE_access = gpd.read_file(\"data/interim/accessibility/new/poly/hex/CE_hex_access.json\", driver=\"GeoJSON\")\n",
    "CC_access = gpd.read_file(\"data/interim/accessibility/new/poly/hex/CC_hex_access.json\", driver=\"GeoJSON\")\n",
    "PS_access = gpd.read_file(\"data/interim/accessibility/new/poly/hex/PS_hex_access.json\", driver=\"GeoJSON\")\n",
    "SP_access = gpd.read_file(\"data/interim/accessibility/new/poly/hex/SP_hex_access.json\", driver=\"GeoJSON\")\n",
    "MX_access = gpd.read_file(\"data/interim/accessibility/new/poly/hex/MX_hex_access.json\", driver=\"GeoJSON\")\n",
    "LO_access = gpd.read_file(\"data/interim/accessibility/new/poly/hex/LO_hex_access.json\", driver=\"GeoJSON\")\n",
    "MEL_access = gpd.read_file(\"data/interim/accessibility/new/poly/hex/MEL_hex_access.json\", driver=\"GeoJSON\")\n",
    "SY_access = gpd.read_file(\"data/interim/accessibility/new/poly/hex/SY_hex_access.json\", driver=\"GeoJSON\")\n",
    "SG_access = gpd.read_file(\"data/interim/accessibility/new/poly/hex/SG_hex_access.json\", driver=\"GeoJSON\")\n",
    "BJ_access = gpd.read_file(\"data/interim/accessibility/new/poly/hex/BJ_hex_access.json\", driver=\"GeoJSON\")\n",
    "MA_access = gpd.read_file(\"data/interim/accessibility/new/poly/hex/MA_hex_access.json\", driver=\"GeoJSON\")\n",
    "MI_access = gpd.read_file(\"data/interim/accessibility/new/poly/hex/MI_hex_access.json\", driver=\"GeoJSON\")\n",
    "BK_access = gpd.read_file(\"data/interim/accessibility/new/poly/hex/BK_hex_access.json\", driver=\"GeoJSON\")\n",
    "SO_access = gpd.read_file(\"data/interim/accessibility/new/poly/hex/SO_hex_access.json\", driver=\"GeoJSON\")\n",
    "RO_access = gpd.read_file(\"data/interim/accessibility/new/poly/hex/RO_hex_access.json\", driver=\"GeoJSON\")\n",
    "TP_access = gpd.read_file(\"data/interim/accessibility/new/poly/hex/TP_hex_access.json\", driver=\"GeoJSON\")\n",
    "BA_access = gpd.read_file(\"data/interim/accessibility/new/poly/hex/BA_hex_access.json\", driver=\"GeoJSON\")\n",
    "AM_access = gpd.read_file(\"data/interim/accessibility/new/poly/hex/AM_hex_access.json\", driver=\"GeoJSON\")\n",
    "BUA_access = gpd.read_file(\"data/interim/accessibility/new/poly/hex/BUA_hex_access.json\", driver=\"GeoJSON\")\n",
    "SGO_access = gpd.read_file(\"data/interim/accessibility/new/poly/hex/SGO_hex_access.json\", driver=\"GeoJSON\")\n",
    "IS_access = gpd.read_file(\"data/interim/accessibility/new/poly/hex/IS_hex_access.json\", driver=\"GeoJSON\")\n",
    "TK_access = gpd.read_file(\"data/interim/accessibility/new/poly/hex/TK_hex_access.json\", driver=\"GeoJSON\")\n",
    "RIO_access = gpd.read_file(\"data/interim/accessibility/new/poly/hex/RIO_hex_access.json\", driver=\"GeoJSON\")\n",
    "CT_access = gpd.read_file(\"data/interim/accessibility/new/poly/hex/CT_hex_access.json\", driver=\"GeoJSON\")\n",
    "BE_access = gpd.read_file(\"data/interim/accessibility/new/poly/hex/BE_hex_access.json\", driver=\"GeoJSON\")\n",
    "NA_access = gpd.read_file(\"data/interim/accessibility/new/poly/hex/NA_hex_access.json\", driver=\"GeoJSON\")\n",
    "MW_access = gpd.read_file(\"data/interim/accessibility/new/poly/hex/MW_hex_access.json\", driver=\"GeoJSON\")\n",
    "BG_access = gpd.read_file(\"data/interim/accessibility/new/poly/hex/BG_hex_access.json\", driver=\"GeoJSON\")\n",
    "MLA_access = gpd.read_file(\"data/interim/accessibility/new/poly/hex/MLA_hex_access.json\", driver=\"GeoJSON\")\n",
    "CP_access = gpd.read_file(\"data/interim/accessibility/new/poly/hex/CP_hex_access.json\", driver=\"GeoJSON\")\n",
    "AT_access = gpd.read_file(\"data/interim/accessibility/new/poly/hex/AT_hex_access.json\", driver=\"GeoJSON\")\n",
    "BU_access = gpd.read_file(\"data/interim/accessibility/new/poly/hex/BU_hex_access.json\", driver=\"GeoJSON\")\n",
    "JK_access = gpd.read_file(\"data/interim/accessibility/new/poly/hex/JK_hex_access.json\", driver=\"GeoJSON\")\n",
    "AK_access = gpd.read_file(\"data/interim/accessibility/new/poly/hex/AK_hex_access.json\", driver=\"GeoJSON\")\n",
    "DU_access = gpd.read_file(\"data/interim/accessibility/new/poly/hex/DU_hex_access.json\", driver=\"GeoJSON\")\n",
    "WA_access = gpd.read_file(\"data/interim/accessibility/new/poly/hex/WA_hex_access.json\", driver=\"GeoJSON\")\n",
    "ED_access = gpd.read_file(\"data/interim/accessibility/new/poly/hex/ED_hex_access.json\", driver=\"GeoJSON\")\n",
    "ST_access = gpd.read_file(\"data/interim/accessibility/new/poly/hex/ST_hex_access.json\", driver=\"GeoJSON\")\n",
    "ZU_access = gpd.read_file(\"data/interim/accessibility/new/poly/hex/ZU_hex_access.json\", driver=\"GeoJSON\")\n",
    "LB_access = gpd.read_file(\"data/interim/accessibility/new/poly/hex/LB_hex_access.json\", driver=\"GeoJSON\")\n",
    "HCM_access = gpd.read_file(\"data/interim/accessibility/new/poly/hex/HCM_hex_access.json\", driver=\"GeoJSON\")\n",
    "LI_access = gpd.read_file(\"data/interim/accessibility/new/poly/hex/LI_hex_access.json\", driver=\"GeoJSON\")"
   ]
  },
  {
   "cell_type": "code",
   "execution_count": 3,
   "metadata": {},
   "outputs": [],
   "source": [
    "DHAG_access = gpd.read_file(\"data/interim/accessibility/old/poly/hex/DHAG_hex_access_score.shp\")"
   ]
  },
  {
   "cell_type": "markdown",
   "metadata": {},
   "source": [
    "### Data Preprocessing"
   ]
  },
  {
   "cell_type": "code",
   "execution_count": 47,
   "metadata": {},
   "outputs": [],
   "source": [
    "# NEW METHOD\n",
    "# Graph 1\n",
    "\n",
    "AK_access['city'] = 'Auckland'\n",
    "AM_access['city'] = 'Amsterdam'\n",
    "AT_access['city'] = 'Athens'\n",
    "BA_access['city'] = 'Barcelona'\n",
    "BE_access['city'] = 'Berlin'\n",
    "BG_access['city'] = 'Bogota'\n",
    "BJ_access['city'] = 'Beijing'\n",
    "BK_access['city'] = 'Bangkok'\n",
    "BU_access['city'] = 'Budapest'\n",
    "BUA_access['city'] = 'Buenos Aires'\n",
    "# CC_access\n",
    "# CE_access\n",
    "CHI_access['city'] = 'Chicago'\n",
    "# CO_access\n",
    "# CS\n",
    "CP_access['city'] = 'Copenhagen'\n",
    "CT_access['city'] = 'Cape Town'\n",
    "CTO_access['city'] = 'Toronto'\n",
    "DHAG_access['city'] = \"The Hague\"\n",
    "\n",
    "DU_access['city'] = 'Dublin'\n",
    "ED_access['city'] = 'Edinburgh'\n",
    "HCM_access['city'] = 'Ho Chi Minh'\n",
    "HOUST_access['city'] = \"Houston\"\n",
    "\n",
    "IS_access['city'] = 'Istanbul'\n",
    "JK_access['city'] = 'Jakarta'\n",
    "LANG_access['city'] = \"Los Angeles\"\n",
    "\n",
    "LB_access['city'] = 'Lisbon'\n",
    "LI_access['city'] = 'Lima'\n",
    "LO_access['city'] = 'London'\n",
    "MA_access['city'] = 'Madrid'\n",
    "# MC\n",
    "# ME\n",
    "\n",
    "CC_access['city'] = 'Calgary'\n",
    "CE_access['city'] = 'Edmonton'\n",
    "MEL_access['city'] = 'Melbourne'\n",
    "MIAMI_access['city'] = \"Miami\"\n",
    "\n",
    "MI_access['city'] = 'Milan'\n",
    "MLA_access['city'] = 'Manila'\n",
    "MM_access['city'] = 'Montreal'\n",
    "MO_access['city'] = 'Ottawa'\n",
    "# MT\n",
    "\n",
    "MV_access['city'] = 'Vancouver'\n",
    "MW_access['city'] = 'Moscow'\n",
    "MX_access['city'] = 'Mexico City'\n",
    "NA_access['city'] = 'Nairobi'\n",
    "NTH_access['city'] = \"Nottingham\"\n",
    "\n",
    "NYC_access['city'] = 'New York City'\n",
    "PHILLY_access['city'] = \"Philadelphia\"\n",
    "\n",
    "PS_access['city'] = 'Paris'\n",
    "RIO_access['city'] = 'Rio de Janeiro'\n",
    "RO_access['city'] = 'Rome'\n",
    "SE_access['city'] = 'Seattle'\n",
    "SF_access['city'] = 'San Francisco'\n",
    "\n",
    "SG_access['city'] = 'Shanghai'\n",
    "SGO_access['city'] = 'Santiago'\n",
    "SO_access['city'] = 'Seoul'\n",
    "SP_access['city'] = 'Singapore'\n",
    "ST_access['city'] = 'Stockholm'\n",
    "SY_access['city'] = 'Sydney'\n",
    "TK_access['city'] = 'Tokyo'\n",
    "TP_access['city'] = 'Taipei'\n",
    "WA_access['city'] = 'Warsaw'\n",
    "ZU_access['city'] = 'Zurich'\n",
    "\n",
    "cities_ls = [AK_access, AM_access, AT_access, BA_access, BE_access, BG_access, \n",
    "             BJ_access, BK_access, BU_access, BUA_access, CHI_access, CP_access,\n",
    "             CT_access, CTO_access, DU_access, DHAG_access, ED_access, HCM_access, HOUST_access, IS_access, \n",
    "             JK_access, LANG_access, LB_access, LI_access, LO_access, MA_access, CC_access, \n",
    "             CE_access, MEL_access, MI_access, MLA_access, MIAMI_access, MM_access, MO_access, \n",
    "             MV_access, MW_access, MX_access, NA_access, NTH_access, NYC_access, PS_access, PHILLY_access,\n",
    "             RIO_access, RO_access, SE_access, SF_access, SG_access, SGO_access, SO_access,\n",
    "             SP_access, ST_access, SY_access, TK_access, TP_access, WA_access,\n",
    "             ZU_access]\n",
    "\n",
    "# cities_ls = [CHI_access, NYC_access, SE_access, CTO_access, MV_access, MM_access, \n",
    "#              CO_access, CE_access, CC_access, PS_access, SP_access, MX_access,\n",
    "#              LO_access, MEL_access, SY_access, SG_access, BJ_access, MA_access, \n",
    "#              MI_access, BK_access, SO_access, RO_access, TP_access, BA_access, \n",
    "#              AM_access, BUA_access, SGO_access, IS_access, TK_access, RIO_access, \n",
    "#              CT_access, BE_access, NA_access, MW_access, BG_access, MLA_access,\n",
    "#              CP_access, AT_access, BU_access, JK_access, AK_access, DU_access,\n",
    "#              WA_access, ED_access, ST_access, ZU_access, LB_access, HCM_access,\n",
    "#              LI_access]\n",
    "\n",
    "cities_pts = pd.concat(cities_ls, ignore_index=True)"
   ]
  },
  {
   "cell_type": "code",
   "execution_count": 3,
   "metadata": {},
   "outputs": [],
   "source": [
    "# Graph 2\n",
    "# from sklearn.preprocessing import MinMaxScaler\n",
    "# scaler = MinMaxScaler(feature_range=(0,1))\n",
    "\n",
    "# CHI_access['city'] = 'Chicago'\n",
    "# NYC_access['city'] = 'New York City'\n",
    "# SE_access['city'] = 'Seattle'\n",
    "# CT_access['city'] = 'Toronto'\n",
    "# CV_access['city'] = 'Vancouver'\n",
    "# CM_access['city'] = 'Montreal'\n",
    "# CC_access['city'] = 'Calgary'\n",
    "# CE_access['city'] = 'Edmonton'\n",
    "# CO_access['city'] = 'Ottawa'\n",
    "# PS_access['city'] = 'Paris'\n",
    "# SP_access['city'] = 'Singapore'\n",
    "# MX_access['city'] = 'Mexico City'\n",
    "# LO_access['city'] = 'London'\n",
    "# MEL_access['city'] = 'Melbourne'\n",
    "# SY_access['city'] = 'Sydney'\n",
    "# SG_access['city'] = 'Shanghai'\n",
    "# BJ_access['city'] = 'Beijing'\n",
    "# MA_access['city'] = 'Madrid'\n",
    "# MI_access['city'] = 'Milan'\n",
    "# BK_access['city'] = 'Bangkok'\n",
    "# SO_access['city'] = 'Seoul'\n",
    "# RO_access['city'] = 'Rome'\n",
    "# TP_access['city'] = 'Taipei'\n",
    "# BA_access['city'] = 'Barcelona'\n",
    "# AM_access['city'] = 'Amsterdam'\n",
    "# BUA_access['city'] = 'Buenos Aires'\n",
    "# SGO_access['city'] = 'Santiago'\n",
    "# IS_access['city'] = 'Istanbul'\n",
    "# TK_access['city'] = 'Tokyo'\n",
    "# RIO_access['city'] = 'Rio de Janeiro'\n",
    "# CT_access['city'] = 'Cape Town'\n",
    "# BE_access['city'] = 'Berlin'\n",
    "# NA_access['city'] = 'Nairobi'\n",
    "# MW_access['city'] = 'Moscow'\n",
    "# BG_access['city'] = 'Bogota'\n",
    "# MLA_access['city'] = 'Manila'\n",
    "# CP_access['city'] = 'Copenhagen'\n",
    "# AT_access['city'] = 'Athens'\n",
    "# BU_access['city'] = 'Budapest'\n",
    "# JK_access['city'] = 'Jakarta'\n",
    "# AK_access['city'] = 'Auckland'\n",
    "# DU_access['city'] = 'Dublin'\n",
    "# WA_access['city'] = 'Warsaw'\n",
    "# ED_access['city'] = 'Edinburgh'\n",
    "# ST_access['city'] = 'Stockholm'\n",
    "# ZU_access['city'] = 'Zurich'\n",
    "# LB_access['city'] = 'Lisbon'\n",
    "# HCM_access['city'] = 'Ho Chi Minh'\n",
    "# LI_access['city'] = 'Lima'\n",
    "\n",
    "\n",
    "# cities_ls = [CHI_access, NYC_access, SE_access, CT_access, CV_access, CM_access, \n",
    "#              CO_access, CE_access, CC_access, PS_access, SP_access, MX_access,\n",
    "#              LO_access, MEL_access, SY_access, SG_access, BJ_access, MA_access, \n",
    "#              MI_access, BK_access, SO_access, RO_access, TP_access, BA_access, \n",
    "#              AM_access, BUA_access, SGO_access, IS_access, TK_access, RIO_access, \n",
    "#              CT_access, BE_access, NA_access, MW_access, BG_access, MLA_access,\n",
    "#              CP_access, AT_access, BU_access, JK_access, AK_access, DU_access,\n",
    "#              WA_access, ED_access, ST_access, ZU_access, LB_access, HCM_access,\n",
    "#              LI_access]\n",
    "\n",
    "# #compute accessibility\n",
    "# for i in range(0,len(cities_ls)):\n",
    "\n",
    "#     cities_ls[i]['accessibil'] =  (0.2*(cities_ls[i]['mobility']) + \n",
    "#                                    0.1*(cities_ls[i]['active_liv']) + \n",
    "#                                    0.1*(cities_ls[i]['nightlife']) + \n",
    "#                                    0.15*(cities_ls[i]['food_choic']) + \n",
    "#                                    0.1*(cities_ls[i]['community_']) + \n",
    "#                                    0.15*(cities_ls[i]['education']) + \n",
    "#                                    0.2*(cities_ls[i]['health_wel']))\n",
    "#     #Normalize the data\n",
    "#     scaler = MinMaxScaler(feature_range=(0, 1))\n",
    "#     cities_ls[i]['accessibil'] = scaler.fit_transform(cities_ls[i][['accessibil']])\n",
    "#     cities_ls[i]['accessibil_sc'] = 1 - scaler.fit_transform(cities_ls[i][['accessibil']])\n",
    "    \n",
    "# ## Use this for Zipf's law later\n",
    "# # create rank for every city: rank each block by accessibility from 1 to ...\n",
    "# # rank for accessibility\n",
    "# for i in range(0,len(cities_ls)):\n",
    "#     cities_ls[i] = cities_ls[i].sort_values('accessibil', ascending=False)\n",
    "#     cities_ls[i]['rank_a'] = np.arange(1, len(cities_ls[i])+1, 1)\n",
    "#     cities_ls[i]['rank_a'] = scaler.fit_transform(cities_ls[i][['rank_a']])\n",
    "    \n",
    "# # categories rescaled\n",
    "# for i in range(0,len(cities_ls)):\n",
    "#     cities_ls[i]['mobility_r'] = scaler.fit_transform(cities_ls[i][['mobility']])\n",
    "#     cities_ls[i]['active_liv_r'] = scaler.fit_transform(cities_ls[i][['active_liv']])\n",
    "#     cities_ls[i]['nightlife_r'] = scaler.fit_transform(cities_ls[i][['nightlife']])\n",
    "#     cities_ls[i]['food_choic_r'] = scaler.fit_transform(cities_ls[i][['food_choic']])\n",
    "#     cities_ls[i]['community_r'] = scaler.fit_transform(cities_ls[i][['community_']])\n",
    "#     cities_ls[i]['education_r'] = scaler.fit_transform(cities_ls[i][['education']])\n",
    "#     cities_ls[i]['health_wel_r'] = scaler.fit_transform(cities_ls[i][['health_wel']])\n",
    "\n",
    "# # rank for mobility\n",
    "# for i in range(0,len(cities_ls)):\n",
    "#     cities_ls[i] = cities_ls[i].sort_values('mobility_r', ascending=False)\n",
    "#     cities_ls[i]['rank_m'] = np.arange(1, len(cities_ls[i])+1, 1)\n",
    "#     cities_ls[i]['rank_m'] = scaler.fit_transform(cities_ls[i][['rank_m']])\n",
    "\n",
    "# # rank for active living\n",
    "# for i in range(0,len(cities_ls)):\n",
    "#     cities_ls[i] = cities_ls[i].sort_values('active_liv_r', ascending=False)\n",
    "#     cities_ls[i]['rank_al'] = np.arange(1, len(cities_ls[i])+1, 1)\n",
    "#     cities_ls[i]['rank_al'] = scaler.fit_transform(cities_ls[i][['rank_al']])\n",
    "\n",
    "# # rank for nightlife\n",
    "# for i in range(0,len(cities_ls)):\n",
    "#     cities_ls[i] = cities_ls[i].sort_values('nightlife_r', ascending=False)\n",
    "#     cities_ls[i]['rank_n'] = np.arange(1, len(cities_ls[i])+1, 1)\n",
    "#     cities_ls[i]['rank_n'] = scaler.fit_transform(cities_ls[i][['rank_n']])\n",
    "    \n",
    "# # rank for food choices\n",
    "# for i in range(0,len(cities_ls)):\n",
    "#     cities_ls[i] = cities_ls[i].sort_values('food_choic_r', ascending=False)\n",
    "#     cities_ls[i]['rank_fc'] = np.arange(1, len(cities_ls[i])+1, 1)\n",
    "#     cities_ls[i]['rank_fc'] = scaler.fit_transform(cities_ls[i][['rank_fc']])\n",
    "    \n",
    "# # rank for community space\n",
    "# for i in range(0,len(cities_ls)):\n",
    "#     cities_ls[i] = cities_ls[i].sort_values('community_r', ascending=False)\n",
    "#     cities_ls[i]['rank_cs'] = np.arange(1, len(cities_ls[i])+1, 1)\n",
    "#     cities_ls[i]['rank_cs'] = scaler.fit_transform(cities_ls[i][['rank_cs']])\n",
    "    \n",
    "# # rank for education\n",
    "# for i in range(0,len(cities_ls)):\n",
    "#     cities_ls[i] = cities_ls[i].sort_values('education_r', ascending=False)\n",
    "#     cities_ls[i]['rank_e'] = np.arange(1, len(cities_ls[i])+1, 1)\n",
    "#     cities_ls[i]['rank_e'] = scaler.fit_transform(cities_ls[i][['rank_e']])\n",
    "    \n",
    "# # rank for health and wellbeing\n",
    "# for i in range(0,len(cities_ls)):\n",
    "#     cities_ls[i] = cities_ls[i].sort_values('health_wel_r', ascending=False)\n",
    "#     cities_ls[i]['rank_hwb'] = np.arange(1, len(cities_ls[i])+1, 1)\n",
    "#     cities_ls[i]['rank_hwb'] = scaler.fit_transform(cities_ls[i][['rank_hwb']])\n",
    "\n",
    "\n",
    "# cities = pd.concat(cities_ls, ignore_index=True)\n",
    "# cities = cities[['mobility_r', 'active_liv_r', 'nightlife_r', 'food_choic_r', \n",
    "#                  'community_r', 'education_r', 'health_wel_r', 'accessibil', \n",
    "#                  'accessibil_sc','city', 'rank_a', 'rank_m', 'rank_al', 'rank_n', \n",
    "#                  'rank_fc','rank_cs', 'rank_e', 'rank_hwb']]"
   ]
  },
  {
   "cell_type": "code",
   "execution_count": 160,
   "metadata": {},
   "outputs": [],
   "source": [
    "# sorted(cities_pts.city.unique())"
   ]
  },
  {
   "cell_type": "code",
   "execution_count": 161,
   "metadata": {},
   "outputs": [],
   "source": [
    "# CTO_access.crs"
   ]
  },
  {
   "cell_type": "code",
   "execution_count": 35,
   "metadata": {},
   "outputs": [],
   "source": [
    "# worldpop = worldpop.set_crs(\"EPSG:54009\")"
   ]
  },
  {
   "cell_type": "code",
   "execution_count": 50,
   "metadata": {},
   "outputs": [],
   "source": [
    "worldpop = gpd.read_file('data/raw/world/GHS_POP_GPW42015_GLOBE_R2015A_54009_250_v1_0/ghs_2015_250_clipped_s_new_wgs84.shp')\n",
    "# worldpop.crs = cities_pts.crs\n",
    "worldpop = worldpop[worldpop['POP_2015']>=0]\n",
    "# worldpop = worldpop.to_crs(cities_pts.crs)"
   ]
  },
  {
   "cell_type": "code",
   "execution_count": 51,
   "metadata": {},
   "outputs": [],
   "source": [
    "def create_hex_access(access = None, hexgrid = None, fillna = None, fillna_value = None):\n",
    "    \n",
    "    '''Computes average accessibility per hexagon by taking the average of walking distances within each hexagon\n",
    "        \n",
    "    Args: \n",
    "        access (GeoDataFrame) : Point GeoDataFrame with distance values.\n",
    "        hexgrid : hexagon grid\n",
    "    \n",
    "    Returns:\n",
    "        gdf (GeoDataFrame) : Hexagon grid GeoDataFrame with averaged distance values for each category of amenities.\n",
    "\n",
    "    '''\n",
    "    \n",
    "    #join transit access points to census\n",
    "    hexgrid = hexgrid.reset_index()\n",
    "    hex_access = gpd.sjoin(hexgrid, access, how='left')\n",
    "\n",
    "\n",
    "    hex_access['index'] = hex_access['index'] \n",
    "    hex_access = hex_access.groupby(by = ['index', 'city']).mean().reset_index()\n",
    "#     hex_access = hex_access[[\"mobility\", \"active_living\", \"nightlife\", \"food_choices\",\n",
    "#                                    \"community_space\", \"education\", \"health_wellbeing\"]]\n",
    "    \n",
    "    #hex_access = hex_access.fillna(method = 'ffill')\n",
    "    if fillna_value == None:\n",
    "        if fillna == None:\n",
    "            hex_access = hex_access.dropna()\n",
    "        elif fillna != None:\n",
    "            hex_access = hex_access.fillna(method = fillna)\n",
    "    else:\n",
    "#         hex_access = hex_access.fillna(hex_access.max(), downcast='infer')\n",
    "        hex_access = hex_access.fillna(value = fillna_value)\n",
    "#         hex_access = hex_access.fillna(method = 'ffill')\n",
    "\n",
    "    hex_access_f = hexgrid.merge(hex_access, on='index').drop('index_right',axis=1)\n",
    "    \n",
    "    \n",
    "    return hex_access_f"
   ]
  },
  {
   "cell_type": "code",
   "execution_count": 32,
   "metadata": {},
   "outputs": [],
   "source": [
    "# hexgrid = worldpop.reset_index()\n",
    "# hex_access = gpd.sjoin(hexgrid, cities_pts, how='left')\n",
    "# hex_access['index'] = hex_access['index'] \n",
    "# hex_access = hex_access.groupby(by = ['index', 'city']).mean().reset_index()\n",
    "# # hex_access = hexgrid.merge(hex_access, on='index')\n",
    "# # hex_access = hex_access.drop('index_right',axis=1)"
   ]
  },
  {
   "cell_type": "code",
   "execution_count": 33,
   "metadata": {},
   "outputs": [],
   "source": [
    "# cities = hexgrid.merge(hex_access, on='index').drop(['index_right', 'POP_2015_x', 'index', 'osmid'],axis=1)"
   ]
  },
  {
   "cell_type": "code",
   "execution_count": 34,
   "metadata": {},
   "outputs": [],
   "source": [
    "# cities.city.unique()"
   ]
  },
  {
   "cell_type": "code",
   "execution_count": 55,
   "metadata": {},
   "outputs": [],
   "source": [
    "### Interpolate into population grid\n",
    "cities = create_hex_access(access = cities_pts, hexgrid = worldpop, fillna = None, fillna_value = None)\n",
    "cities = cities.drop(['POP_2015_x', 'index', 'osmid'],axis=1)"
   ]
  },
  {
   "cell_type": "code",
   "execution_count": 56,
   "metadata": {},
   "outputs": [
    {
     "data": {
      "text/html": [
       "<div>\n",
       "<style scoped>\n",
       "    .dataframe tbody tr th:only-of-type {\n",
       "        vertical-align: middle;\n",
       "    }\n",
       "\n",
       "    .dataframe tbody tr th {\n",
       "        vertical-align: top;\n",
       "    }\n",
       "\n",
       "    .dataframe thead th {\n",
       "        text-align: right;\n",
       "    }\n",
       "</style>\n",
       "<table border=\"1\" class=\"dataframe\">\n",
       "  <thead>\n",
       "    <tr style=\"text-align: right;\">\n",
       "      <th></th>\n",
       "      <th>geometry</th>\n",
       "      <th>city</th>\n",
       "      <th>POP_2015_y</th>\n",
       "      <th>active_liv</th>\n",
       "      <th>community_</th>\n",
       "      <th>education</th>\n",
       "      <th>food_choic</th>\n",
       "      <th>health_wel</th>\n",
       "      <th>mobility</th>\n",
       "      <th>nightlife</th>\n",
       "      <th>y</th>\n",
       "      <th>x</th>\n",
       "    </tr>\n",
       "  </thead>\n",
       "  <tbody>\n",
       "    <tr>\n",
       "      <th>0</th>\n",
       "      <td>POLYGON ((-3.35280 55.99953, -3.35294 56.00204...</td>\n",
       "      <td>Edinburgh</td>\n",
       "      <td>0.000000</td>\n",
       "      <td>2289.251465</td>\n",
       "      <td>3126.523987</td>\n",
       "      <td>2997.960999</td>\n",
       "      <td>2502.432007</td>\n",
       "      <td>3126.523987</td>\n",
       "      <td>2592.153992</td>\n",
       "      <td>2562.057007</td>\n",
       "      <td>56.000383</td>\n",
       "      <td>-3.351069</td>\n",
       "    </tr>\n",
       "    <tr>\n",
       "      <th>1</th>\n",
       "      <td>POLYGON ((-3.36702 55.99702, -3.36716 55.99953...</td>\n",
       "      <td>Edinburgh</td>\n",
       "      <td>0.000000</td>\n",
       "      <td>1548.709961</td>\n",
       "      <td>2154.115967</td>\n",
       "      <td>2025.552979</td>\n",
       "      <td>1530.024048</td>\n",
       "      <td>2154.115967</td>\n",
       "      <td>1619.745972</td>\n",
       "      <td>1589.649048</td>\n",
       "      <td>55.997986</td>\n",
       "      <td>-3.365603</td>\n",
       "    </tr>\n",
       "    <tr>\n",
       "      <th>2</th>\n",
       "      <td>POLYGON ((-3.36688 55.99450, -3.36702 55.99702...</td>\n",
       "      <td>Edinburgh</td>\n",
       "      <td>0.000000</td>\n",
       "      <td>1407.715942</td>\n",
       "      <td>2013.121948</td>\n",
       "      <td>1884.558960</td>\n",
       "      <td>1389.030029</td>\n",
       "      <td>2013.121948</td>\n",
       "      <td>1478.751953</td>\n",
       "      <td>1448.655029</td>\n",
       "      <td>55.996857</td>\n",
       "      <td>-3.366635</td>\n",
       "    </tr>\n",
       "    <tr>\n",
       "      <th>3</th>\n",
       "      <td>POLYGON ((-3.35970 55.99450, -3.35984 55.99702...</td>\n",
       "      <td>Edinburgh</td>\n",
       "      <td>0.000000</td>\n",
       "      <td>1719.728027</td>\n",
       "      <td>2737.893066</td>\n",
       "      <td>2370.750000</td>\n",
       "      <td>1993.432983</td>\n",
       "      <td>2737.893066</td>\n",
       "      <td>1964.942993</td>\n",
       "      <td>1731.087036</td>\n",
       "      <td>55.995372</td>\n",
       "      <td>-3.356359</td>\n",
       "    </tr>\n",
       "    <tr>\n",
       "      <th>4</th>\n",
       "      <td>POLYGON ((-3.35611 55.99450, -3.35625 55.99702...</td>\n",
       "      <td>Edinburgh</td>\n",
       "      <td>0.000000</td>\n",
       "      <td>1679.390991</td>\n",
       "      <td>2957.992920</td>\n",
       "      <td>2590.850098</td>\n",
       "      <td>2213.532959</td>\n",
       "      <td>2957.992920</td>\n",
       "      <td>2185.042969</td>\n",
       "      <td>1951.187012</td>\n",
       "      <td>55.995295</td>\n",
       "      <td>-3.352823</td>\n",
       "    </tr>\n",
       "    <tr>\n",
       "      <th>...</th>\n",
       "      <td>...</td>\n",
       "      <td>...</td>\n",
       "      <td>...</td>\n",
       "      <td>...</td>\n",
       "      <td>...</td>\n",
       "      <td>...</td>\n",
       "      <td>...</td>\n",
       "      <td>...</td>\n",
       "      <td>...</td>\n",
       "      <td>...</td>\n",
       "      <td>...</td>\n",
       "      <td>...</td>\n",
       "    </tr>\n",
       "    <tr>\n",
       "      <th>397232</th>\n",
       "      <td>POLYGON ((174.73420 -37.26314, 174.73101 -37.2...</td>\n",
       "      <td>Auckland</td>\n",
       "      <td>82.459290</td>\n",
       "      <td>680.900024</td>\n",
       "      <td>1880.293945</td>\n",
       "      <td>1094.577026</td>\n",
       "      <td>1533.171997</td>\n",
       "      <td>1533.171997</td>\n",
       "      <td>1174.426025</td>\n",
       "      <td>1389.233032</td>\n",
       "      <td>-37.262348</td>\n",
       "      <td>174.735773</td>\n",
       "    </tr>\n",
       "    <tr>\n",
       "      <th>397233</th>\n",
       "      <td>POLYGON ((174.73707 -37.26314, 174.73388 -37.2...</td>\n",
       "      <td>Auckland</td>\n",
       "      <td>74.132019</td>\n",
       "      <td>532.829498</td>\n",
       "      <td>1732.223511</td>\n",
       "      <td>946.506500</td>\n",
       "      <td>1385.101501</td>\n",
       "      <td>1385.101501</td>\n",
       "      <td>1026.355530</td>\n",
       "      <td>1241.162537</td>\n",
       "      <td>-37.261123</td>\n",
       "      <td>174.735118</td>\n",
       "    </tr>\n",
       "    <tr>\n",
       "      <th>397234</th>\n",
       "      <td>POLYGON ((174.74314 -37.26535, 174.73995 -37.2...</td>\n",
       "      <td>Auckland</td>\n",
       "      <td>0.000000</td>\n",
       "      <td>1421.012939</td>\n",
       "      <td>2620.406982</td>\n",
       "      <td>1834.689941</td>\n",
       "      <td>2273.284912</td>\n",
       "      <td>2273.284912</td>\n",
       "      <td>1914.538940</td>\n",
       "      <td>2129.345947</td>\n",
       "      <td>-37.264180</td>\n",
       "      <td>174.743810</td>\n",
       "    </tr>\n",
       "    <tr>\n",
       "      <th>397235</th>\n",
       "      <td>POLYGON ((174.65660 -37.28299, 174.65340 -37.2...</td>\n",
       "      <td>Auckland</td>\n",
       "      <td>0.052929</td>\n",
       "      <td>7118.282959</td>\n",
       "      <td>7118.282959</td>\n",
       "      <td>7118.282959</td>\n",
       "      <td>119.882999</td>\n",
       "      <td>6958.424072</td>\n",
       "      <td>7016.075928</td>\n",
       "      <td>7604.299072</td>\n",
       "      <td>-37.282294</td>\n",
       "      <td>174.657903</td>\n",
       "    </tr>\n",
       "    <tr>\n",
       "      <th>397236</th>\n",
       "      <td>POLYGON ((174.65692 -37.28519, 174.65372 -37.2...</td>\n",
       "      <td>Auckland</td>\n",
       "      <td>2.934038</td>\n",
       "      <td>7404.098022</td>\n",
       "      <td>7404.098022</td>\n",
       "      <td>7404.098022</td>\n",
       "      <td>165.931999</td>\n",
       "      <td>7244.239014</td>\n",
       "      <td>7301.890991</td>\n",
       "      <td>7890.114014</td>\n",
       "      <td>-37.284244</td>\n",
       "      <td>174.657941</td>\n",
       "    </tr>\n",
       "  </tbody>\n",
       "</table>\n",
       "<p>397237 rows × 12 columns</p>\n",
       "</div>"
      ],
      "text/plain": [
       "                                                 geometry       city  \\\n",
       "0       POLYGON ((-3.35280 55.99953, -3.35294 56.00204...  Edinburgh   \n",
       "1       POLYGON ((-3.36702 55.99702, -3.36716 55.99953...  Edinburgh   \n",
       "2       POLYGON ((-3.36688 55.99450, -3.36702 55.99702...  Edinburgh   \n",
       "3       POLYGON ((-3.35970 55.99450, -3.35984 55.99702...  Edinburgh   \n",
       "4       POLYGON ((-3.35611 55.99450, -3.35625 55.99702...  Edinburgh   \n",
       "...                                                   ...        ...   \n",
       "397232  POLYGON ((174.73420 -37.26314, 174.73101 -37.2...   Auckland   \n",
       "397233  POLYGON ((174.73707 -37.26314, 174.73388 -37.2...   Auckland   \n",
       "397234  POLYGON ((174.74314 -37.26535, 174.73995 -37.2...   Auckland   \n",
       "397235  POLYGON ((174.65660 -37.28299, 174.65340 -37.2...   Auckland   \n",
       "397236  POLYGON ((174.65692 -37.28519, 174.65372 -37.2...   Auckland   \n",
       "\n",
       "        POP_2015_y   active_liv   community_    education   food_choic  \\\n",
       "0         0.000000  2289.251465  3126.523987  2997.960999  2502.432007   \n",
       "1         0.000000  1548.709961  2154.115967  2025.552979  1530.024048   \n",
       "2         0.000000  1407.715942  2013.121948  1884.558960  1389.030029   \n",
       "3         0.000000  1719.728027  2737.893066  2370.750000  1993.432983   \n",
       "4         0.000000  1679.390991  2957.992920  2590.850098  2213.532959   \n",
       "...            ...          ...          ...          ...          ...   \n",
       "397232   82.459290   680.900024  1880.293945  1094.577026  1533.171997   \n",
       "397233   74.132019   532.829498  1732.223511   946.506500  1385.101501   \n",
       "397234    0.000000  1421.012939  2620.406982  1834.689941  2273.284912   \n",
       "397235    0.052929  7118.282959  7118.282959  7118.282959   119.882999   \n",
       "397236    2.934038  7404.098022  7404.098022  7404.098022   165.931999   \n",
       "\n",
       "         health_wel     mobility    nightlife          y           x  \n",
       "0       3126.523987  2592.153992  2562.057007  56.000383   -3.351069  \n",
       "1       2154.115967  1619.745972  1589.649048  55.997986   -3.365603  \n",
       "2       2013.121948  1478.751953  1448.655029  55.996857   -3.366635  \n",
       "3       2737.893066  1964.942993  1731.087036  55.995372   -3.356359  \n",
       "4       2957.992920  2185.042969  1951.187012  55.995295   -3.352823  \n",
       "...             ...          ...          ...        ...         ...  \n",
       "397232  1533.171997  1174.426025  1389.233032 -37.262348  174.735773  \n",
       "397233  1385.101501  1026.355530  1241.162537 -37.261123  174.735118  \n",
       "397234  2273.284912  1914.538940  2129.345947 -37.264180  174.743810  \n",
       "397235  6958.424072  7016.075928  7604.299072 -37.282294  174.657903  \n",
       "397236  7244.239014  7301.890991  7890.114014 -37.284244  174.657941  \n",
       "\n",
       "[397237 rows x 12 columns]"
      ]
     },
     "execution_count": 56,
     "metadata": {},
     "output_type": "execute_result"
    }
   ],
   "source": [
    "cities"
   ]
  },
  {
   "cell_type": "code",
   "execution_count": 71,
   "metadata": {},
   "outputs": [],
   "source": [
    "cities_pts.to_file('data/interim/accessibility/new/pois/points_access/cities_final.json', index=False, driver = 'GeoJSON')"
   ]
  },
  {
   "cell_type": "code",
   "execution_count": 67,
   "metadata": {},
   "outputs": [
    {
     "data": {
      "text/plain": [
       "56"
      ]
     },
     "execution_count": 67,
     "metadata": {},
     "output_type": "execute_result"
    }
   ],
   "source": [
    "len(sorted(cities_pts['city'].unique()))"
   ]
  },
  {
   "cell_type": "code",
   "execution_count": 92,
   "metadata": {},
   "outputs": [
    {
     "data": {
      "text/plain": [
       "54"
      ]
     },
     "execution_count": 92,
     "metadata": {},
     "output_type": "execute_result"
    }
   ],
   "source": [
    "len(sorted(cities['city'].unique()))"
   ]
  },
  {
   "cell_type": "code",
   "execution_count": 78,
   "metadata": {},
   "outputs": [],
   "source": [
    "# cities_pts[cities_pts['city']=='Toronto']"
   ]
  },
  {
   "cell_type": "code",
   "execution_count": 70,
   "metadata": {},
   "outputs": [
    {
     "data": {
      "text/html": [
       "<div>\n",
       "<style scoped>\n",
       "    .dataframe tbody tr th:only-of-type {\n",
       "        vertical-align: middle;\n",
       "    }\n",
       "\n",
       "    .dataframe tbody tr th {\n",
       "        vertical-align: top;\n",
       "    }\n",
       "\n",
       "    .dataframe thead th {\n",
       "        text-align: right;\n",
       "    }\n",
       "</style>\n",
       "<table border=\"1\" class=\"dataframe\">\n",
       "  <thead>\n",
       "    <tr style=\"text-align: right;\">\n",
       "      <th></th>\n",
       "      <th>geometry</th>\n",
       "      <th>city</th>\n",
       "      <th>POP_2015_y</th>\n",
       "      <th>active_liv</th>\n",
       "      <th>community_</th>\n",
       "      <th>education</th>\n",
       "      <th>food_choic</th>\n",
       "      <th>health_wel</th>\n",
       "      <th>mobility</th>\n",
       "      <th>nightlife</th>\n",
       "      <th>y</th>\n",
       "      <th>x</th>\n",
       "    </tr>\n",
       "  </thead>\n",
       "  <tbody>\n",
       "  </tbody>\n",
       "</table>\n",
       "</div>"
      ],
      "text/plain": [
       "Empty GeoDataFrame\n",
       "Columns: [geometry, city, POP_2015_y, active_liv, community_, education, food_choic, health_wel, mobility, nightlife, y, x]\n",
       "Index: []"
      ]
     },
     "execution_count": 70,
     "metadata": {},
     "output_type": "execute_result"
    }
   ],
   "source": [
    "cities[cities['city']=='Toronto']"
   ]
  },
  {
   "cell_type": "code",
   "execution_count": 79,
   "metadata": {},
   "outputs": [
    {
     "data": {
      "text/plain": [
       "<matplotlib.axes._subplots.AxesSubplot at 0x22e5947a198>"
      ]
     },
     "execution_count": 79,
     "metadata": {},
     "output_type": "execute_result"
    },
    {
     "data": {
      "image/png": "[encoded data removed]",
      "text/plain": [
       "<Figure size 432x288 with 1 Axes>"
      ]
     },
     "metadata": {
      "needs_background": "light"
     },
     "output_type": "display_data"
    }
   ],
   "source": [
    "cities[cities['city']=='Montreal'].plot(column='mobility', cmap='magma_r', scheme='quantiles')"
   ]
  },
  {
   "cell_type": "code",
   "execution_count": 173,
   "metadata": {},
   "outputs": [
    {
     "name": "stderr",
     "output_type": "stream",
     "text": [
      "C:\\Users\\Leonardo\\Anaconda3\\lib\\site-packages\\seaborn\\distributions.py:2551: FutureWarning: `distplot` is a deprecated function and will be removed in a future version. Please adapt your code to use either `displot` (a figure-level function with similar flexibility) or `histplot` (an axes-level function for histograms).\n",
      "  warnings.warn(msg, FutureWarning)\n",
      "C:\\Users\\Leonardo\\Anaconda3\\lib\\site-packages\\seaborn\\distributions.py:2551: FutureWarning: `distplot` is a deprecated function and will be removed in a future version. Please adapt your code to use either `displot` (a figure-level function with similar flexibility) or `histplot` (an axes-level function for histograms).\n",
      "  warnings.warn(msg, FutureWarning)\n"
     ]
    },
    {
     "data": {
      "text/plain": [
       "<matplotlib.axes._subplots.AxesSubplot at 0x1d09ba77908>"
      ]
     },
     "execution_count": 173,
     "metadata": {},
     "output_type": "execute_result"
    },
    {
     "data": {
      "image/png": "[encoded data removed]",
      "text/plain": [
       "<Figure size 432x288 with 1 Axes>"
      ]
     },
     "metadata": {
      "needs_background": "light"
     },
     "output_type": "display_data"
    }
   ],
   "source": [
    "%matplotlib inline\n",
    "import seaborn as sns\n",
    "sns.distplot(cities['mobility'][cities['city']=='Vancouver'], bins=50, color='blue')\n",
    "sns.distplot(cities_pts['mobility'][cities_pts['city']=='Vancouver'], bins=50, color='orange')"
   ]
  },
  {
   "cell_type": "code",
   "execution_count": 176,
   "metadata": {},
   "outputs": [
    {
     "data": {
      "text/plain": [
       "<matplotlib.axes._subplots.AxesSubplot at 0x1d0381dc860>"
      ]
     },
     "execution_count": 176,
     "metadata": {},
     "output_type": "execute_result"
    },
    {
     "data": {
      "image/png": "[encoded data removed]",
      "text/plain": [
       "<Figure size 432x288 with 1 Axes>"
      ]
     },
     "metadata": {
      "needs_background": "light"
     },
     "output_type": "display_data"
    }
   ],
   "source": [
    "cities[cities['city']=='Milan'].plot(column='mobility', cmap='magma_r', scheme='quantiles')"
   ]
  },
  {
   "cell_type": "code",
   "execution_count": 72,
   "metadata": {},
   "outputs": [],
   "source": [
    "cities.to_file('data/interim/accessibility/new/poly/hex/cities_final_popgrid2.json', index=False, driver = 'GeoJSON')"
   ]
  },
  {
   "cell_type": "markdown",
   "metadata": {},
   "source": [
    "# START HERE"
   ]
  },
  {
   "cell_type": "code",
   "execution_count": 80,
   "metadata": {},
   "outputs": [],
   "source": [
    "import warnings\n",
    "import scipy\n",
    "warnings.filterwarnings('ignore')\n",
    "sc = \"MinMaxScaler\" # \"StandardScaler\"\n",
    "from sklearn.preprocessing import MinMaxScaler\n",
    "from sklearn.preprocessing import StandardScaler\n",
    "\n",
    "if sc == \"MinMaxScaler\":\n",
    "    scaler = MinMaxScaler(feature_range=(0,1))\n",
    "    \n",
    "if sc == \"StandardScaler\":\n",
    "    scaler = StandardScaler()\n",
    "    \n",
    "# initialize empty columns\n",
    "cities['pop_r'] = np.NaN\n",
    "cities['accessibil'] = np.NaN\n",
    "cities['accessibil_sc'] = np.NaN\n",
    "cities['accessibil_sc_popw'] = np.NaN\n",
    "cities['accessibil_sc_popw_r'] = np.NaN\n",
    "cities['accessibil_cap'] = np.NaN\n",
    "cities['pop_%'] = np.NaN\n",
    "cities['ccdf'] = np.NaN\n",
    "cities['ccdf_access'] = np.NaN\n",
    "#compute accessibility\n",
    "for i in cities['city'].unique():\n",
    "    # rescaled pop\n",
    "    cities['pop_r'][cities['city']==i] = scaler.fit_transform(cities[['POP_2015_y']][cities['city']==i]).flatten() \n",
    "    # access score\n",
    "    cities['accessibil'][cities['city']==i] = (0.2*(cities[['mobility']][cities['city']==i].values) + \n",
    "                                               0.1*(cities[['active_liv']][cities['city']==i].values) + \n",
    "                                               0.1*(cities[['nightlife']][cities['city']==i].values) + \n",
    "                                               0.15*(cities[['food_choic']][cities['city']==i].values) + \n",
    "                                               0.1*(cities[['community_']][cities['city']==i].values) + \n",
    "                                               0.15*(cities[['education']][cities['city']==i].values) + \n",
    "                                               0.2*(cities[['health_wel']][cities['city']==i].values)).flatten()\n",
    "    #Normalize the data\n",
    "#     scaler = MinMaxScaler(feature_range=(0, 1))\n",
    "#     cities_ls[i]['accessibil'] = scaler.fit_transform(cities_ls[i][['accessibil']])\n",
    "    cities['accessibil_cap'][cities['city']==i] = (cities[['accessibil']][cities['city']==i].values).flatten()/(cities[['POP_2015_y']][cities['city']==i].values).flatten()\n",
    "    cities['accessibil_sc'][cities['city']==i] = 1 - scaler.fit_transform(cities[['accessibil']][cities['city']==i]).flatten()\n",
    "    cities['accessibil_sc_popw'][cities['city']==i] = ((cities[['accessibil']][cities['city']==i].values).flatten() * (1-cities['pop_r'][cities['city']==i].values).flatten())\n",
    "#     cities['accessibil_sc_popw_r'][cities['city']==i] = 1 - scaler.fit_transform(cities[['accessibil_sc_popw']][cities['city']==i]).flatten()\n",
    "\n",
    "    # percent pop\n",
    "    cities['pop_%'][cities['city']==i] = (cities[['POP_2015_y']][cities['city']==i].values).flatten()/np.sum(cities[['POP_2015_y']][cities['city']==i]).values[0]\n",
    "    # ccdf of accessibility\n",
    "    # REMOVE ccdf_access\n",
    "    mu=cities[cities['city']==i].accessibil_sc.mean()\n",
    "    sig=cities[cities['city']==i].accessibil_sc.std()\n",
    "    # cities['z'][cities['city']==i]=scipy.stats.mstats.zscore(df.accessibil_sc)\n",
    "    cities['ccdf_access'][cities['city']==i]=cities[cities['city']==i].sort_values('accessibil_sc')['accessibil_sc'].apply(lambda x: scipy.stats.norm(mu,sig).cdf(x))\n",
    "\n",
    "\n",
    "    cities['accessibil_sc_popw_r'][cities['city']==i] = (cities['accessibil_sc'][cities['city']==i].values*cities['pop_r'][cities['city']==i].values).flatten()\n",
    "\n",
    "#     cities_ls[i]['accessibil_wz'] = 1 - scaler.fit_transform(mstats.winsorize(cities_ls[i][['accessibil']], axis= 0, limits = [0.01,0.01]))"
   ]
  },
  {
   "cell_type": "code",
   "execution_count": 70,
   "metadata": {},
   "outputs": [
    {
     "data": {
      "text/plain": [
       "array([[0.11649154],\n",
       "       [0.22821619],\n",
       "       [0.24968406],\n",
       "       ...,\n",
       "       [0.15264532],\n",
       "       [0.12445293],\n",
       "       [0.02637789]])"
      ]
     },
     "execution_count": 70,
     "metadata": {},
     "output_type": "execute_result"
    }
   ],
   "source": [
    "i = cities['city'].unique()[0]\n",
    "1-scaler.fit_transform(np.log1p((cities[['accessibil']][cities['city']==i].values)))"
   ]
  },
  {
   "cell_type": "code",
   "execution_count": 153,
   "metadata": {},
   "outputs": [
    {
     "data": {
      "text/plain": [
       "0.6418538861723947"
      ]
     },
     "execution_count": 153,
     "metadata": {},
     "output_type": "execute_result"
    }
   ],
   "source": [
    "np.log(0.9+1)"
   ]
  },
  {
   "cell_type": "code",
   "execution_count": 142,
   "metadata": {},
   "outputs": [
    {
     "data": {
      "text/plain": [
       "array([[8.04477727],\n",
       "       [7.83515428],\n",
       "       [7.72943934],\n",
       "       ...,\n",
       "       [7.79463241],\n",
       "       [7.73577484],\n",
       "       [7.71648034]])"
      ]
     },
     "execution_count": 142,
     "metadata": {},
     "output_type": "execute_result"
    }
   ],
   "source": [
    "np.log(cities[['accessibil']][cities['city']==\"Seattle\"].values)"
   ]
  },
  {
   "cell_type": "code",
   "execution_count": 82,
   "metadata": {},
   "outputs": [],
   "source": [
    "cities = cities[(cities['ccdf']!=0)&(cities['ccdf_access']!=0)&(cities['accessibil_sc']!=0)&(cities['accessibil']!=0)]"
   ]
  },
  {
   "cell_type": "code",
   "execution_count": 26,
   "metadata": {},
   "outputs": [],
   "source": [
    "import scipy\n",
    "from sklearn.preprocessing import MinMaxScaler\n",
    "scaler = MinMaxScaler(feature_range=(0,1))\n",
    "# cities['a_log'] = np.NaN\n",
    "# cities['p_log'] = np.NaN\n",
    "cities['ccdfa_log'] = np.NaN\n",
    "cities['ccdfp_log'] = np.NaN\n",
    "cities['ccdf'] = np.NaN\n",
    "cities['ccdf_access'] = np.NaN\n",
    "# cities['rank_a'] = np.NaN\n",
    "# cities['rank_a_log'] = np.NaN\n",
    "\n",
    "for i in cities['city'].unique():\n",
    "\n",
    "#     cities['a_log'][cities['city']==i] = np.log(cities[['accessibil']][cities['city']==i].values).flatten()\n",
    "\n",
    "    cities['a_log'][cities['city']==i] = 1 - scaler.fit_transform(np.log(cities[['accessibil']][cities['city']==i].values)).flatten()\n",
    "    \n",
    "    cities = cities.sort_values(by = [\"city\", 'a_log'], ascending=False)\n",
    "    cities['rank_a'][cities['city']==i] = np.arange(1, len(cities[cities['city']==i])+1, 1)\n",
    "    cities['rank_a_log'][cities['city']==i] = scaler.fit_transform(np.log(cities[['rank_a']][cities['city']==i].values)).flatten()\n",
    "# #     cities['a_log'][cities['city']==i] = np.log(cities[['accessibil_sc']][cities['city']==i].values).flatten()\n",
    "\n",
    "     # cumsum of pop_%\n",
    "    cities['ccdf'][cities['city']==i] = cities.sort_values('a_log')['pop_%'][cities['city']==i].cumsum()\n",
    "    \n",
    "cities = cities[cities['ccdf']!=0]\n",
    "\n",
    "for i in cities['city'].unique():\n",
    "    cities['ccdfp_log'][cities['city']==i] = scaler.fit_transform(np.log(cities[['ccdf']][cities['city']==i].values)).flatten()\n",
    "        \n",
    "    mu=cities[cities['city']==i].a_log.mean()\n",
    "    sig=cities[cities['city']==i].a_log.std()\n",
    "    \n",
    "    cities['ccdf_access'][cities['city']==i] = cities[cities['city']==i].sort_values('a_log')['a_log'].apply(lambda x: scipy.stats.norm(mu,sig).cdf(x))\n",
    "\n",
    "cities = cities[cities['ccdf_access']!=0]\n",
    "\n",
    "for i in cities['city'].unique():\n",
    "    cities['ccdfa_log'][cities['city']==i] = scaler.fit_transform(np.log(cities[['ccdf_access']][cities['city']==i].values)).flatten()\n",
    "\n",
    "    \n",
    "#     cities_ls[i]['rank_a_log'] = np.log(cities_ls[i][['rank_a']])\n",
    "#     cities_ls[i]['rank_a_r'] = scaler.fit_transform(cities_ls[i][['rank_a']])"
   ]
  },
  {
   "cell_type": "code",
   "execution_count": 102,
   "metadata": {},
   "outputs": [],
   "source": [
    "for i in cities['city'].unique():    \n",
    "#     cities[cities['city']==i] = cities[cities['city']==i].sort_values('a_log', ascending=False)\n",
    "#     cities['rank_a'][cities['city']==i] = np.arange(1, len(cities[cities['city']==i])+1, 1)\n",
    "#     cities['rank_a_log'][cities['city']==i] = scaler.fit_transform(np.log(cities[['rank_a']][cities['city']==i].values)).flatten()\n",
    "\n",
    "    cities = cities.sort_values(by = [\"city\", 'a_log'], ascending=False)\n",
    "    cities['rank_a'][cities['city']==i] = np.arange(1, len(cities[cities['city']==i])+1, 1)\n",
    "    cities['rank_a_log'][cities['city']==i] = scaler.fit_transform(np.log(cities[['rank_a']][cities['city']==i].values)).flatten()\n",
    "    \n",
    "#     cities_ls[i] = cities_ls[i].sort_values('accessibil_sc', ascending=True)\n",
    "#     cities_ls[i]['rank_a'] = np.arange(1, len(cities_ls[i])+1, 1)\n",
    "#     cities_ls[i]['rank_a_log'] = scaler.fit_transform(np.log(cities_ls[i][['rank_a']]))"
   ]
  },
  {
   "cell_type": "code",
   "execution_count": null,
   "metadata": {},
   "outputs": [],
   "source": [
    "len(cities[cities['city']==i])"
   ]
  },
  {
   "cell_type": "code",
   "execution_count": 97,
   "metadata": {},
   "outputs": [],
   "source": [
    "tokyo = cities[cities['city']==\"Tokyo\"].sort_values('a_log', ascending=False)\n",
    "tokyo['rank_a'] = np.arange(1, len(tokyo)+1, 1)\n",
    "tokyo['rank_a_r'] = scaler.fit_transform(tokyo[['rank_a']].values).flatten()\n",
    "\n",
    "ottawa = cities[cities['city']==\"Ottawa\"].sort_values('a_log', ascending=False)\n",
    "ottawa['rank_a'] = np.arange(1, len(ottawa)+1, 1)\n",
    "ottawa['rank_a_r'] = scaler.fit_transform(ottawa[['rank_a']].values).flatten()"
   ]
  },
  {
   "cell_type": "code",
   "execution_count": 27,
   "metadata": {},
   "outputs": [
    {
     "data": {
      "text/html": [
       "<div>\n",
       "<style scoped>\n",
       "    .dataframe tbody tr th:only-of-type {\n",
       "        vertical-align: middle;\n",
       "    }\n",
       "\n",
       "    .dataframe tbody tr th {\n",
       "        vertical-align: top;\n",
       "    }\n",
       "\n",
       "    .dataframe thead th {\n",
       "        text-align: right;\n",
       "    }\n",
       "</style>\n",
       "<table border=\"1\" class=\"dataframe\">\n",
       "  <thead>\n",
       "    <tr style=\"text-align: right;\">\n",
       "      <th></th>\n",
       "      <th>city</th>\n",
       "      <th>POP_2015_y</th>\n",
       "      <th>active_liv</th>\n",
       "      <th>community_</th>\n",
       "      <th>education</th>\n",
       "      <th>food_choic</th>\n",
       "      <th>health_wel</th>\n",
       "      <th>mobility</th>\n",
       "      <th>nightlife</th>\n",
       "      <th>y</th>\n",
       "      <th>...</th>\n",
       "      <th>pop_%</th>\n",
       "      <th>ccdf</th>\n",
       "      <th>ccdf_access</th>\n",
       "      <th>a_log</th>\n",
       "      <th>ccdfa_log</th>\n",
       "      <th>ccdfp_log</th>\n",
       "      <th>rank_a</th>\n",
       "      <th>rank_a_log</th>\n",
       "      <th>Continent</th>\n",
       "      <th>geometry</th>\n",
       "    </tr>\n",
       "  </thead>\n",
       "  <tbody>\n",
       "    <tr>\n",
       "      <th>0</th>\n",
       "      <td>Zurich</td>\n",
       "      <td>468.351227</td>\n",
       "      <td>63.053286</td>\n",
       "      <td>86.134357</td>\n",
       "      <td>50.645381</td>\n",
       "      <td>55.759666</td>\n",
       "      <td>123.876309</td>\n",
       "      <td>64.805548</td>\n",
       "      <td>70.472857</td>\n",
       "      <td>47.386764</td>\n",
       "      <td>...</td>\n",
       "      <td>0.001189</td>\n",
       "      <td>0.998999</td>\n",
       "      <td>0.993441</td>\n",
       "      <td>1.000000</td>\n",
       "      <td>1.000000</td>\n",
       "      <td>1.000000</td>\n",
       "      <td>1.0</td>\n",
       "      <td>0.000000</td>\n",
       "      <td>Europe</td>\n",
       "      <td>POLYGON ((8.52792 47.38557, 8.52816 47.38791, ...</td>\n",
       "    </tr>\n",
       "    <tr>\n",
       "      <th>1</th>\n",
       "      <td>Zurich</td>\n",
       "      <td>489.092712</td>\n",
       "      <td>76.890100</td>\n",
       "      <td>120.004829</td>\n",
       "      <td>130.543286</td>\n",
       "      <td>54.991929</td>\n",
       "      <td>88.553486</td>\n",
       "      <td>57.419628</td>\n",
       "      <td>63.030514</td>\n",
       "      <td>47.370499</td>\n",
       "      <td>...</td>\n",
       "      <td>0.001242</td>\n",
       "      <td>0.997810</td>\n",
       "      <td>0.990736</td>\n",
       "      <td>0.974186</td>\n",
       "      <td>0.999427</td>\n",
       "      <td>0.999843</td>\n",
       "      <td>2.0</td>\n",
       "      <td>0.095902</td>\n",
       "      <td>Europe</td>\n",
       "      <td>POLYGON ((8.54851 47.36917, 8.54875 47.37152, ...</td>\n",
       "    </tr>\n",
       "  </tbody>\n",
       "</table>\n",
       "<p>2 rows × 27 columns</p>\n",
       "</div>"
      ],
      "text/plain": [
       "     city  POP_2015_y  active_liv  community_   education  food_choic  \\\n",
       "0  Zurich  468.351227   63.053286   86.134357   50.645381   55.759666   \n",
       "1  Zurich  489.092712   76.890100  120.004829  130.543286   54.991929   \n",
       "\n",
       "   health_wel   mobility  nightlife          y  ...     pop_%      ccdf  \\\n",
       "0  123.876309  64.805548  70.472857  47.386764  ...  0.001189  0.998999   \n",
       "1   88.553486  57.419628  63.030514  47.370499  ...  0.001242  0.997810   \n",
       "\n",
       "   ccdf_access     a_log  ccdfa_log  ccdfp_log  rank_a  rank_a_log  Continent  \\\n",
       "0     0.993441  1.000000   1.000000   1.000000     1.0    0.000000     Europe   \n",
       "1     0.990736  0.974186   0.999427   0.999843     2.0    0.095902     Europe   \n",
       "\n",
       "                                            geometry  \n",
       "0  POLYGON ((8.52792 47.38557, 8.52816 47.38791, ...  \n",
       "1  POLYGON ((8.54851 47.36917, 8.54875 47.37152, ...  \n",
       "\n",
       "[2 rows x 27 columns]"
      ]
     },
     "execution_count": 27,
     "metadata": {},
     "output_type": "execute_result"
    }
   ],
   "source": [
    "cities.head(2)"
   ]
  },
  {
   "cell_type": "code",
   "execution_count": 112,
   "metadata": {},
   "outputs": [],
   "source": [
    "# assign continents\n",
    "north_america = ['Chicago', 'New York City', 'Seattle', 'Toronto', 'Montreal', 'Vancouver', 'Montreal', 'Calgary', 'Ottawa', 'Edmonton', \n",
    "                 \"Houston\", \"Philadelphia\", \"San Francisco\", \"Los Angeles\", \"Miami\"]\n",
    "asia = ['Singapore', 'Shanghai', 'Beijing', 'Bangkok', 'Seoul', 'Taipei', 'Istanbul', 'Tokyo', 'Moscow', 'Manila', 'Jakarta', 'Ho Chi Minh']\n",
    "africa = ['Cape Town', 'Nairobi']\n",
    "europe = ['Paris', 'London', 'Madrid', 'Milan', 'Rome', 'Barcelona', 'Amsterdam', 'Berlin', 'Copenhagen', 'Athens', 'Budapest', 'Zurich',\n",
    "          'Stockholm', 'Edinburgh', 'Lisbon', 'Warsaw', 'Dublin', \"The Hague\", \"Nottingham\"]\n",
    "latin_america =[ 'Mexico City', 'Buenos Aires', 'Santiago', 'Rio de Janeiro', 'Bogota', 'Lima']\n",
    "oceania = ['Melbourne', 'Sydney', 'Auckland']\n",
    "\n",
    "cities['Continent'] = \"\"\n",
    "cities['Continent'][cities['city'].isin(north_america)] = 'North America'\n",
    "cities['Continent'][cities['city'].isin(asia)] = 'Asia'\n",
    "cities['Continent'][cities['city'].isin(europe)] = 'Europe'\n",
    "cities['Continent'][cities['city'].isin(latin_america)] = 'Latin America'\n",
    "cities['Continent'][cities['city'].isin(oceania)] = 'Oceania'     \n",
    "cities['Continent'][cities['city'].isin(africa)] = 'Africa'    "
   ]
  },
  {
   "cell_type": "code",
   "execution_count": 181,
   "metadata": {},
   "outputs": [],
   "source": [
    "# import scipy\n",
    "# cities['ccdf'] = np.NaN\n",
    "# cities['ccdf_access'] = np.NaN\n",
    "# for i in cities['city'].unique():\n",
    "#     cities['ccdf'][cities['city']==i] = cities.sort_values('accessibil_sc')['pop_%'][cities['city']==i].cumsum()\n",
    "#     mu=cities[cities['city']==i].accessibil_sc.mean()\n",
    "#     sig=cities[cities['city']==i].accessibil_sc.std()\n",
    "# #     cities['z'][cities['city']==i]=scipy.stats.mstats.zscore(df.accessibil_sc)\n",
    "#     cities['ccdf_access'][cities['city']==i]=cities[cities['city']==i].sort_values('accessibil_sc')['accessibil_sc'].apply(lambda x: scipy.stats.norm(mu,sig).cdf(x))\n",
    "\n",
    "# #     cities['pop_%'][cities['city']==i] = (cities[['POP_2015_y']][cities['city']==i].values).flatten()/np.sum(cities[['POP_2015_y']][cities['city']==i]).values[0]"
   ]
  },
  {
   "cell_type": "code",
   "execution_count": 182,
   "metadata": {},
   "outputs": [],
   "source": [
    "# cities['ccdf'][cities['city']=='Chicago'].describe()"
   ]
  },
  {
   "cell_type": "code",
   "execution_count": 35,
   "metadata": {},
   "outputs": [],
   "source": [
    "cities.to_file('data/interim/accessibility/new/poly/hex/cities_final_popgrid.json', index=False, driver = 'GeoJSON')"
   ]
  },
  {
   "cell_type": "code",
   "execution_count": 2,
   "metadata": {},
   "outputs": [],
   "source": [
    "cities = gpd.read_file('data/interim/accessibility/new/poly/hex/cities_final_popgrid.json', index=False, driver = 'GeoJSON')"
   ]
  },
  {
   "cell_type": "code",
   "execution_count": 11,
   "metadata": {},
   "outputs": [
    {
     "data": {
      "text/html": [
       "<div>\n",
       "<style scoped>\n",
       "    .dataframe tbody tr th:only-of-type {\n",
       "        vertical-align: middle;\n",
       "    }\n",
       "\n",
       "    .dataframe tbody tr th {\n",
       "        vertical-align: top;\n",
       "    }\n",
       "\n",
       "    .dataframe thead th {\n",
       "        text-align: right;\n",
       "    }\n",
       "</style>\n",
       "<table border=\"1\" class=\"dataframe\">\n",
       "  <thead>\n",
       "    <tr style=\"text-align: right;\">\n",
       "      <th></th>\n",
       "      <th>city</th>\n",
       "      <th>POP_2015_y</th>\n",
       "      <th>active_liv</th>\n",
       "      <th>community_</th>\n",
       "      <th>education</th>\n",
       "      <th>food_choic</th>\n",
       "      <th>health_wel</th>\n",
       "      <th>mobility</th>\n",
       "      <th>nightlife</th>\n",
       "      <th>y</th>\n",
       "      <th>...</th>\n",
       "      <th>pop_%</th>\n",
       "      <th>ccdf</th>\n",
       "      <th>ccdf_access</th>\n",
       "      <th>a_log</th>\n",
       "      <th>ccdfa_log</th>\n",
       "      <th>ccdfp_log</th>\n",
       "      <th>rank_a</th>\n",
       "      <th>rank_a_log</th>\n",
       "      <th>Continent</th>\n",
       "      <th>geometry</th>\n",
       "    </tr>\n",
       "  </thead>\n",
       "  <tbody>\n",
       "    <tr>\n",
       "      <th>0</th>\n",
       "      <td>Zurich</td>\n",
       "      <td>468.351227</td>\n",
       "      <td>63.053286</td>\n",
       "      <td>86.134357</td>\n",
       "      <td>50.645381</td>\n",
       "      <td>55.759666</td>\n",
       "      <td>123.876309</td>\n",
       "      <td>64.805548</td>\n",
       "      <td>70.472857</td>\n",
       "      <td>47.386764</td>\n",
       "      <td>...</td>\n",
       "      <td>0.001189</td>\n",
       "      <td>1.000000</td>\n",
       "      <td>0.877474</td>\n",
       "      <td>1.000000</td>\n",
       "      <td>0.993441</td>\n",
       "      <td>1.000000</td>\n",
       "      <td>1.0</td>\n",
       "      <td>0.000000</td>\n",
       "      <td>Europe</td>\n",
       "      <td>POLYGON ((8.52792 47.38557, 8.52816 47.38791, ...</td>\n",
       "    </tr>\n",
       "    <tr>\n",
       "      <th>1</th>\n",
       "      <td>Zurich</td>\n",
       "      <td>489.092712</td>\n",
       "      <td>76.890100</td>\n",
       "      <td>120.004829</td>\n",
       "      <td>130.543286</td>\n",
       "      <td>54.991929</td>\n",
       "      <td>88.553486</td>\n",
       "      <td>57.419628</td>\n",
       "      <td>63.030514</td>\n",
       "      <td>47.370499</td>\n",
       "      <td>...</td>\n",
       "      <td>0.001242</td>\n",
       "      <td>0.998811</td>\n",
       "      <td>0.874236</td>\n",
       "      <td>0.974186</td>\n",
       "      <td>0.990736</td>\n",
       "      <td>0.999817</td>\n",
       "      <td>2.0</td>\n",
       "      <td>0.095902</td>\n",
       "      <td>Europe</td>\n",
       "      <td>POLYGON ((8.54851 47.36917, 8.54875 47.37152, ...</td>\n",
       "    </tr>\n",
       "    <tr>\n",
       "      <th>2</th>\n",
       "      <td>Zurich</td>\n",
       "      <td>319.946716</td>\n",
       "      <td>52.465406</td>\n",
       "      <td>83.130423</td>\n",
       "      <td>153.086765</td>\n",
       "      <td>75.713407</td>\n",
       "      <td>75.096422</td>\n",
       "      <td>56.953453</td>\n",
       "      <td>115.623984</td>\n",
       "      <td>47.365169</td>\n",
       "      <td>...</td>\n",
       "      <td>0.000812</td>\n",
       "      <td>0.997569</td>\n",
       "      <td>0.872973</td>\n",
       "      <td>0.964843</td>\n",
       "      <td>0.989540</td>\n",
       "      <td>0.999626</td>\n",
       "      <td>3.0</td>\n",
       "      <td>0.152001</td>\n",
       "      <td>Europe</td>\n",
       "      <td>POLYGON ((8.52895 47.36449, 8.52919 47.36683, ...</td>\n",
       "    </tr>\n",
       "    <tr>\n",
       "      <th>3</th>\n",
       "      <td>Zurich</td>\n",
       "      <td>489.092712</td>\n",
       "      <td>82.481237</td>\n",
       "      <td>135.023609</td>\n",
       "      <td>107.392900</td>\n",
       "      <td>35.986227</td>\n",
       "      <td>87.228009</td>\n",
       "      <td>95.130309</td>\n",
       "      <td>79.947509</td>\n",
       "      <td>47.384331</td>\n",
       "      <td>...</td>\n",
       "      <td>0.001242</td>\n",
       "      <td>0.996756</td>\n",
       "      <td>0.872133</td>\n",
       "      <td>0.958841</td>\n",
       "      <td>0.988703</td>\n",
       "      <td>0.999501</td>\n",
       "      <td>4.0</td>\n",
       "      <td>0.191804</td>\n",
       "      <td>Europe</td>\n",
       "      <td>POLYGON ((8.53086 47.38322, 8.53110 47.38557, ...</td>\n",
       "    </tr>\n",
       "    <tr>\n",
       "      <th>4</th>\n",
       "      <td>Zurich</td>\n",
       "      <td>489.092712</td>\n",
       "      <td>84.515859</td>\n",
       "      <td>181.791408</td>\n",
       "      <td>159.842563</td>\n",
       "      <td>45.763986</td>\n",
       "      <td>59.456929</td>\n",
       "      <td>62.186662</td>\n",
       "      <td>113.795423</td>\n",
       "      <td>47.367602</td>\n",
       "      <td>...</td>\n",
       "      <td>0.001242</td>\n",
       "      <td>0.995515</td>\n",
       "      <td>0.869665</td>\n",
       "      <td>0.942049</td>\n",
       "      <td>0.986043</td>\n",
       "      <td>0.999309</td>\n",
       "      <td>5.0</td>\n",
       "      <td>0.222678</td>\n",
       "      <td>Europe</td>\n",
       "      <td>POLYGON ((8.54509 47.36683, 8.54533 47.36917, ...</td>\n",
       "    </tr>\n",
       "  </tbody>\n",
       "</table>\n",
       "<p>5 rows × 27 columns</p>\n",
       "</div>"
      ],
      "text/plain": [
       "     city  POP_2015_y  active_liv  community_   education  food_choic  \\\n",
       "0  Zurich  468.351227   63.053286   86.134357   50.645381   55.759666   \n",
       "1  Zurich  489.092712   76.890100  120.004829  130.543286   54.991929   \n",
       "2  Zurich  319.946716   52.465406   83.130423  153.086765   75.713407   \n",
       "3  Zurich  489.092712   82.481237  135.023609  107.392900   35.986227   \n",
       "4  Zurich  489.092712   84.515859  181.791408  159.842563   45.763986   \n",
       "\n",
       "   health_wel   mobility   nightlife          y  ...     pop_%      ccdf  \\\n",
       "0  123.876309  64.805548   70.472857  47.386764  ...  0.001189  1.000000   \n",
       "1   88.553486  57.419628   63.030514  47.370499  ...  0.001242  0.998811   \n",
       "2   75.096422  56.953453  115.623984  47.365169  ...  0.000812  0.997569   \n",
       "3   87.228009  95.130309   79.947509  47.384331  ...  0.001242  0.996756   \n",
       "4   59.456929  62.186662  113.795423  47.367602  ...  0.001242  0.995515   \n",
       "\n",
       "   ccdf_access     a_log  ccdfa_log  ccdfp_log  rank_a  rank_a_log  Continent  \\\n",
       "0     0.877474  1.000000   0.993441   1.000000     1.0    0.000000     Europe   \n",
       "1     0.874236  0.974186   0.990736   0.999817     2.0    0.095902     Europe   \n",
       "2     0.872973  0.964843   0.989540   0.999626     3.0    0.152001     Europe   \n",
       "3     0.872133  0.958841   0.988703   0.999501     4.0    0.191804     Europe   \n",
       "4     0.869665  0.942049   0.986043   0.999309     5.0    0.222678     Europe   \n",
       "\n",
       "                                            geometry  \n",
       "0  POLYGON ((8.52792 47.38557, 8.52816 47.38791, ...  \n",
       "1  POLYGON ((8.54851 47.36917, 8.54875 47.37152, ...  \n",
       "2  POLYGON ((8.52895 47.36449, 8.52919 47.36683, ...  \n",
       "3  POLYGON ((8.53086 47.38322, 8.53110 47.38557, ...  \n",
       "4  POLYGON ((8.54509 47.36683, 8.54533 47.36917, ...  \n",
       "\n",
       "[5 rows x 27 columns]"
      ]
     },
     "execution_count": 11,
     "metadata": {},
     "output_type": "execute_result"
    }
   ],
   "source": [
    "cities.head()"
   ]
  },
  {
   "cell_type": "code",
   "execution_count": 51,
   "metadata": {},
   "outputs": [
    {
     "name": "stderr",
     "output_type": "stream",
     "text": [
      "C:\\Users\\Leonardo\\Anaconda3\\lib\\site-packages\\seaborn\\distributions.py:2551: FutureWarning: `distplot` is a deprecated function and will be removed in a future version. Please adapt your code to use either `displot` (a figure-level function with similar flexibility) or `histplot` (an axes-level function for histograms).\n",
      "  warnings.warn(msg, FutureWarning)\n",
      "C:\\Users\\Leonardo\\Anaconda3\\lib\\site-packages\\ipykernel_launcher.py:4: RuntimeWarning: divide by zero encountered in log\n",
      "  after removing the cwd from sys.path.\n",
      "C:\\Users\\Leonardo\\Anaconda3\\lib\\site-packages\\seaborn\\distributions.py:2551: FutureWarning: `distplot` is a deprecated function and will be removed in a future version. Please adapt your code to use either `displot` (a figure-level function with similar flexibility) or `histplot` (an axes-level function for histograms).\n",
      "  warnings.warn(msg, FutureWarning)\n"
     ]
    },
    {
     "data": {
      "text/plain": [
       "<matplotlib.axes._subplots.AxesSubplot at 0x1d2ce15e278>"
      ]
     },
     "execution_count": 51,
     "metadata": {},
     "output_type": "execute_result"
    },
    {
     "data": {
      "image/png": "[encoded data removed]",
      "text/plain": [
       "<Figure size 432x288 with 1 Axes>"
      ]
     },
     "metadata": {
      "needs_background": "light"
     },
     "output_type": "display_data"
    }
   ],
   "source": [
    "%matplotlib inline\n",
    "import seaborn as sns\n",
    "sns.distplot(cities['a_log'][cities['city']=='Amsterdam'], bins=50, color='blue')\n",
    "sns.distplot(scaler.fit_transform(np.log(cities[['pop_log']][cities['city']=='Amsterdam']).replace(-np.inf, 0).values), bins=50, color='orange')"
   ]
  },
  {
   "cell_type": "code",
   "execution_count": 53,
   "metadata": {},
   "outputs": [
    {
     "data": {
      "text/plain": [
       "<matplotlib.axes._subplots.AxesSubplot at 0x1d2ceb6d9b0>"
      ]
     },
     "execution_count": 53,
     "metadata": {},
     "output_type": "execute_result"
    },
    {
     "data": {
      "image/png": "[encoded data removed]",
      "text/plain": [
       "<Figure size 432x288 with 1 Axes>"
      ]
     },
     "metadata": {
      "needs_background": "light"
     },
     "output_type": "display_data"
    }
   ],
   "source": [
    "cities[cities['city']=='Amsterdam'].plot(column='a_log', cmap='magma', scheme='quantiles')"
   ]
  },
  {
   "cell_type": "code",
   "execution_count": 54,
   "metadata": {},
   "outputs": [
    {
     "data": {
      "text/plain": [
       "<matplotlib.axes._subplots.AxesSubplot at 0x1d2cef3bb38>"
      ]
     },
     "execution_count": 54,
     "metadata": {},
     "output_type": "execute_result"
    },
    {
     "data": {
      "image/png": "[encoded data removed]",
      "text/plain": [
       "<Figure size 432x288 with 1 Axes>"
      ]
     },
     "metadata": {
      "needs_background": "light"
     },
     "output_type": "display_data"
    }
   ],
   "source": [
    "cities[cities['city']=='Amsterdam'].plot(column='pop_log', cmap='magma', scheme='quantiles')"
   ]
  },
  {
   "cell_type": "code",
   "execution_count": 43,
   "metadata": {},
   "outputs": [],
   "source": [
    "# log population\n",
    "cities['pop_log'] = np.NaN\n",
    "for i in cities['city'].unique():\n",
    "    # rescaled pop\n",
    "    cities['pop_log'][cities['city']==i] = scaler.fit_transform(np.log(cities[['POP_2015_y']][cities['city']==i]).replace(-np.inf, 0).values).flatten()"
   ]
  },
  {
   "cell_type": "code",
   "execution_count": 197,
   "metadata": {},
   "outputs": [],
   "source": [
    "# df= pd.DataFrame(columns=['No','quantity'], data=[[1,100.0],[2,102.3],[3,301.3],[4,101.3],[5,101.3],[6,120.3]])\n",
    "# import scipy\n",
    "\n",
    "# df = cities[cities['city']=='Tokyo']\n",
    "# mu=df.accessibil_sc.mean()\n",
    "# sig=df.accessibil_sc.std()\n",
    "# df['z']=scipy.stats.mstats.zscore(df.accessibil_sc)\n",
    "# df['prob']=df.sort_values('accessibil_sc')['accessibil_sc'].apply(lambda x: scipy.stats.norm(mu,sig).cdf(x))\n",
    "# df['ccdf_access'] = df.sort_values('accessibil_sc')['prob'].cumsum()"
   ]
  },
  {
   "cell_type": "code",
   "execution_count": 192,
   "metadata": {},
   "outputs": [],
   "source": [
    "sns.lineplot(cities[cities['city']==\"Seattle\"].sort_values('accessibil_sc'), x = 'accessibil_sc', y = 'ccdf_access')"
   ]
  },
  {
   "cell_type": "code",
   "execution_count": 57,
   "metadata": {},
   "outputs": [
    {
     "data": {
      "text/plain": [
       "<matplotlib.collections.PathCollection at 0x1d2cef8d4e0>"
      ]
     },
     "execution_count": 57,
     "metadata": {},
     "output_type": "execute_result"
    },
    {
     "data": {
      "image/png": "[encoded data removed]",
      "text/plain": [
       "<Figure size 720x360 with 1 Axes>"
      ]
     },
     "metadata": {
      "needs_background": "light"
     },
     "output_type": "display_data"
    }
   ],
   "source": [
    "%matplotlib inline\n",
    "import matplotlib.pyplot as plt\n",
    "fig, ax = plt.subplots(figsize=(10,5))\n",
    "# ax.set(xscale=\"log\")\n",
    "plt.scatter(data=cities[cities['city']==\"Amsterdam\"].sort_values('a_log')[['a_log', 'ccdfa_log']], x='a_log', y='ccdfa_log', s=2)\n",
    "plt.scatter(data=cities[cities['city']==\"Amsterdam\"].sort_values('a_log')[['a_log', 'ccdfp_log']], x='a_log', y='ccdfp_log', s=2)"
   ]
  },
  {
   "cell_type": "code",
   "execution_count": 26,
   "metadata": {},
   "outputs": [],
   "source": [
    "# cities.sample(10)"
   ]
  },
  {
   "cell_type": "code",
   "execution_count": 17,
   "metadata": {},
   "outputs": [],
   "source": [
    "# cities['pop_%'][cities['city']==\"Edinburgh\"] = (cities[['POP_2015_y']][cities['city']==\"Edinburgh\"].values).flatten()/np.sum(cities[['POP_2015_y']][cities['city']==\"Edinburgh\"]).values[0]"
   ]
  },
  {
   "cell_type": "code",
   "execution_count": 37,
   "metadata": {},
   "outputs": [
    {
     "data": {
      "text/plain": [
       "<matplotlib.collections.PathCollection at 0x1d2ccb79f98>"
      ]
     },
     "execution_count": 37,
     "metadata": {},
     "output_type": "execute_result"
    },
    {
     "data": {
      "image/png": "[encoded data removed]",
      "text/plain": [
       "<Figure size 720x360 with 1 Axes>"
      ]
     },
     "metadata": {
      "needs_background": "light"
     },
     "output_type": "display_data"
    }
   ],
   "source": [
    "import seaborn as sns\n",
    "import matplotlib.pyplot as plt\n",
    "fig, ax1 = plt.subplots(figsize=(10,5))\n",
    "# ax1.set(xscale=\"log\")\n",
    "plt.scatter(data=cities[cities['city']==\"London\"], x=\"rank_a_log\", y=\"a_log\", s=2)\n",
    "# plt.scatter(data=seattle, x=\"rank_a_r\", y=\"a_log\", s=2)"
   ]
  },
  {
   "cell_type": "code",
   "execution_count": null,
   "metadata": {},
   "outputs": [],
   "source": []
  },
  {
   "cell_type": "code",
   "execution_count": 26,
   "metadata": {},
   "outputs": [],
   "source": [
    "# sns.distplot(cities['accessibil'][cities['city']=='London'], bins=50, color='blue')\n",
    "# sns.distplot(cities['POP_2015_y'][cities['city']=='London'], bins=50, color='red')\n",
    "# # sns.distplot(cities['accessibil_sc_popw_r'][(cities['city']=='Cape Town')&(cities['pop_r']>0)], bins=50, color='orange')"
   ]
  },
  {
   "cell_type": "code",
   "execution_count": 27,
   "metadata": {},
   "outputs": [],
   "source": [
    "# %matplotlib inline\n",
    "# sns.scatterplot(data=cities[cities['city']=='Cape Town'], x=\"accessibil_sc\", y=\"pop_r\", s=2)"
   ]
  },
  {
   "cell_type": "code",
   "execution_count": 28,
   "metadata": {},
   "outputs": [],
   "source": [
    "# sns.distplot(cities['accessibil_sc'][cities['city']=='Cape Town'], bins=50, color='blue')\n",
    "# sns.distplot(cities['pop_r'][cities['city']=='Cape Town'], bins=50, color='red')\n",
    "# sns.distplot(cities['accessibil_sc_popw_r'][cities['city']=='Cape Town'], bins=50, color='orange')"
   ]
  },
  {
   "cell_type": "code",
   "execution_count": 127,
   "metadata": {},
   "outputs": [],
   "source": [
    "# %matplotlib inline\n",
    "# import matplotlib.pyplot as plt\n",
    "# fig, ax = plt.subplots(figsize=(10,5))\n",
    "# # ax.set(xscale=\"log\", yscale=\"log\")\n",
    "# sns.scatterplot(data=cities[(cities['city']=='London')&(cities['accessibil_sc']>0.4)], x=\"accessibil_sc\", y=\"pop_r\", s=2)"
   ]
  },
  {
   "cell_type": "code",
   "execution_count": 38,
   "metadata": {},
   "outputs": [
    {
     "name": "stderr",
     "output_type": "stream",
     "text": [
      "C:\\Users\\Leonardo\\Anaconda3\\lib\\site-packages\\seaborn\\distributions.py:2551: FutureWarning: `distplot` is a deprecated function and will be removed in a future version. Please adapt your code to use either `displot` (a figure-level function with similar flexibility) or `histplot` (an axes-level function for histograms).\n",
      "  warnings.warn(msg, FutureWarning)\n"
     ]
    },
    {
     "data": {
      "text/plain": [
       "<matplotlib.axes._subplots.AxesSubplot at 0x1d2ccb210b8>"
      ]
     },
     "execution_count": 38,
     "metadata": {},
     "output_type": "execute_result"
    },
    {
     "data": {
      "image/png": "[encoded data removed]",
      "text/plain": [
       "<Figure size 432x288 with 1 Axes>"
      ]
     },
     "metadata": {
      "needs_background": "light"
     },
     "output_type": "display_data"
    }
   ],
   "source": [
    "# fig, ax = plt.subplots(figsize=(10,5))\n",
    "# # ax.set(xscale=\"log\")\n",
    "# sns.distplot(cities['accessibil_sc'][(cities['city']=='Chicago')&(cities['accessibil_sc']>0.6)], bins=20, color='blue', kde=1, norm_hist=False)\n",
    "# # sns.distplot(cities['pop_r'][(cities['city']=='London')&(cities['pop_r']>0)], bins=50, color='red')\n",
    "sns.distplot(cities['a_log'][cities['city']=='Buenos Aires'], bins=50, color='orange')"
   ]
  },
  {
   "cell_type": "code",
   "execution_count": 125,
   "metadata": {},
   "outputs": [],
   "source": [
    "# binned_ld = cities[cities['city']=='Chicago'].groupby(pd.qcut(cities.accessibil_sc[cities['city']=='Chicago'], 20)).sum()"
   ]
  },
  {
   "cell_type": "code",
   "execution_count": 34,
   "metadata": {},
   "outputs": [],
   "source": [
    "# binned_ld = cities[cities['city']=='Chicago'].groupby(pd.qcut(cities.accessibil[cities['city']=='Chicago'], 20)).sum()"
   ]
  },
  {
   "cell_type": "code",
   "execution_count": 35,
   "metadata": {},
   "outputs": [],
   "source": [
    "# binned_ld['ccdf'] = binned_ld['POP_2015_y'].cumsum()"
   ]
  },
  {
   "cell_type": "code",
   "execution_count": 124,
   "metadata": {},
   "outputs": [],
   "source": [
    "# fig, ax = plt.subplots(figsize=(10,5))\n",
    "# binned_ld[['ccdf']].plot(kind=\"bar\", ax = ax)\n",
    "# # binned_ld[['accessibil_sc']].plot(kind=\"bar\", ax = ax)"
   ]
  },
  {
   "cell_type": "code",
   "execution_count": 123,
   "metadata": {},
   "outputs": [],
   "source": [
    "# fig, ax = plt.subplots(figsize=(10,5))\n",
    "# binned_ld[['POP_2015_y']].plot(kind=\"bar\", ax = ax)"
   ]
  },
  {
   "cell_type": "code",
   "execution_count": null,
   "metadata": {},
   "outputs": [],
   "source": [
    "### 1) normalize each population cell: (divide each cell populaiton by the total of the city)\n",
    "### 2) calculate cumsum for that column (normalized pop)\n",
    "### 3) plot line (x= accessibil_sc, y=cumsum of normalized pop)\n"
   ]
  },
  {
   "cell_type": "code",
   "execution_count": 32,
   "metadata": {},
   "outputs": [],
   "source": [
    "# sns.distplot(cities['ccdf'][cities['city']=='Chicago'], bins=20, color='blue', kde=1, norm_hist=False)"
   ]
  },
  {
   "cell_type": "code",
   "execution_count": 31,
   "metadata": {},
   "outputs": [],
   "source": [
    "# %matplotlib inline\n",
    "# sns.lineplot(data=cities[(cities['city']=='Tokyo')&(cities['pop_%']>0)], x=\"accessibil_sc\", y=\"ccdf\")"
   ]
  },
  {
   "cell_type": "code",
   "execution_count": 30,
   "metadata": {},
   "outputs": [],
   "source": [
    "# sns.lineplot(data=cities[(cities['city']=='Tokyo')&(cities['pop_%']>0.00005)], x=\"accessibil_sc\", y=\"ccdf\")"
   ]
  },
  {
   "cell_type": "code",
   "execution_count": 29,
   "metadata": {},
   "outputs": [],
   "source": [
    "# import plotly.express as px\n",
    "# fig, ax = plt.subplots(figsize=(10,5))\n",
    "# # ax.set(xscale=\"log\")\n",
    "# ax = sns.lineplot(data=cities[(cities['city']=='Seattle')&(cities['pop_%']>0.0005)], x=\"accessibil_sc\", y=\"ccdf\")"
   ]
  },
  {
   "cell_type": "code",
   "execution_count": 28,
   "metadata": {},
   "outputs": [],
   "source": [
    "# import plotly.express as px\n",
    "# fig, ax = plt.subplots(figsize=(10,5))\n",
    "# # ax.set(xscale=\"log\")\n",
    "# ax = sns.lineplot(data=cities[(cities['city']=='Seattle')&(cities['pop_%']>0.00005)], x=\"accessibil_sc\", y=\"ccdf\")"
   ]
  },
  {
   "cell_type": "code",
   "execution_count": 86,
   "metadata": {},
   "outputs": [],
   "source": [
    "# import plotly.express as px\n",
    "# fig, ax = plt.subplots(figsize=(10,5))\n",
    "# # ax.set(xscale=\"log\")\n",
    "# ax = sns.lineplot(data=cities, x=\"accessibil_sc\", y=\"ccdf\", hue='city')\n",
    "# ax.legend(mode='expand')"
   ]
  },
  {
   "cell_type": "markdown",
   "metadata": {},
   "source": [
    "### VIZ SECTION"
   ]
  },
  {
   "cell_type": "code",
   "execution_count": 7,
   "metadata": {},
   "outputs": [],
   "source": [
    "import plotly.express as px\n",
    "\n",
    "fig = px.scatter(cities.round({'a_log': 4, 'ccdfa_log': 4, 'ccdfp_log': 4, 'rank_a_log': 4}), x='a_log', y='ccdfp_log', color='Continent',\n",
    "                 log_x=False, log_y=False, color_discrete_sequence=px.colors.qualitative.Pastel,\n",
    "                 template ='plotly_white', hover_data=[\"city\", \"accessibil_sc\", \"ccdf\"]).update_traces(marker=dict(size=2.5))\n",
    "\n",
    "fig.update_layout(height = 500, width = 1000, yaxis_title=\"<b> log(ccdf P)\",\n",
    "                  xaxis_title=\"<b> log(A)\",\n",
    "                  showlegend=True, font=dict(family=\"Helvetica\", size = 10), legend_title=\"\", \n",
    "                  legend_orientation=\"h\", legend = dict(x = 0.5, xanchor = 'center', y = 1.06, yanchor = 'middle'),\n",
    "                  legend_itemsizing='constant') #legend_orientation=\"h\", legend=dict(x=0.5, y=1))\n",
    "\n",
    "#plotly.offline.plot(fig, filename=r'reports\\Graphics\\access_metrics\\ScalingLaw.html')\n",
    "\n",
    "fig.show()"
   ]
  },
  {
   "cell_type": "code",
   "execution_count": 8,
   "metadata": {},
   "outputs": [],
   "source": [
    "import plotly.express as px\n",
    "\n",
    "fig = px.scatter(cities.round({'a_log': 4, 'ccdfa_log': 4, 'ccdfp_log': 4, 'rank_a_log': 4}), x='a_log', y='ccdfa_log', color='Continent',\n",
    "                 log_x=False, log_y=False, color_discrete_sequence=px.colors.qualitative.Pastel,\n",
    "                 template ='plotly_white', hover_data=[\"city\", \"accessibil_sc\", \"ccdf\"]).update_traces(marker=dict(size=2.5))\n",
    "\n",
    "fig.update_layout(height = 500, width = 1000, yaxis_title=\"<b> Cumulative Population Proportion\",\n",
    "                  xaxis_title=\"<b> Accessibility Score\",\n",
    "                  showlegend=True, font=dict(family=\"Helvetica\", size = 10), legend_title=\"\", \n",
    "                  legend_orientation=\"h\", legend = dict(x = 0.5, xanchor = 'center', y = 1.06, yanchor = 'middle'),\n",
    "                  legend_itemsizing='constant') #legend_orientation=\"h\", legend=dict(x=0.5, y=1))\n",
    "\n",
    "#plotly.offline.plot(fig, filename=r'reports\\Graphics\\access_metrics\\ScalingLaw.html')\n",
    "\n",
    "fig.show()"
   ]
  },
  {
   "cell_type": "code",
   "execution_count": 9,
   "metadata": {},
   "outputs": [],
   "source": [
    "import plotly.express as px\n",
    "\n",
    "fig = px.scatter(cities.round({'accessibil_sc': 4, 'ccdf_access': 8, 'ccdf': 8}), x='a_log', y='ccdf', color='Continent',\n",
    "                 log_x=False, log_y=False, color_discrete_sequence=px.colors.qualitative.Pastel,\n",
    "                 template ='plotly_white', hover_data=[\"city\", \"accessibil_sc\", \"ccdf\"]).update_traces(marker=dict(size=2.5))\n",
    "\n",
    "fig.update_layout(height = 500, width = 1000, yaxis_title=\"<b> Cumulative Population Proportion\",\n",
    "                  xaxis_title=\"<b> Accessibility Score\",\n",
    "                  showlegend=True, font=dict(family=\"Helvetica\", size = 10), legend_title=\"\", \n",
    "                  legend_orientation=\"h\", legend = dict(x = 0.5, xanchor = 'center', y = 1.06, yanchor = 'middle'),\n",
    "                  legend_itemsizing='constant') #legend_orientation=\"h\", legend=dict(x=0.5, y=1))\n",
    "\n",
    "#plotly.offline.plot(fig, filename=r'reports\\Graphics\\access_metrics\\ScalingLaw.html')\n",
    "\n",
    "fig.show()"
   ]
  },
  {
   "cell_type": "code",
   "execution_count": 10,
   "metadata": {},
   "outputs": [],
   "source": [
    "import plotly.express as px\n",
    "\n",
    "fig = px.scatter(cities.round({'accessibil_sc': 4, 'ccdf_access': 8, 'ccdf': 8}), x='a_log', y='ccdf_access', color='Continent',\n",
    "                 log_x=False, log_y=False, color_discrete_sequence=px.colors.qualitative.Pastel,\n",
    "                 template ='plotly_white', hover_data=[\"city\", \"accessibil_sc\", \"ccdf\"]).update_traces(marker=dict(size=2.5))\n",
    "\n",
    "fig.update_layout(height = 500, width = 1000, yaxis_title=\"<b> Cumulative Population Proportion\",\n",
    "                  xaxis_title=\"<b> Accessibility Score\",\n",
    "                  showlegend=True, font=dict(family=\"Helvetica\", size = 10), legend_title=\"\", \n",
    "                  legend_orientation=\"h\", legend = dict(x = 0.5, xanchor = 'center', y = 1.06, yanchor = 'middle'),\n",
    "                  legend_itemsizing='constant') #legend_orientation=\"h\", legend=dict(x=0.5, y=1))\n",
    "\n",
    "#plotly.offline.plot(fig, filename=r'reports\\Graphics\\access_metrics\\ScalingLaw.html')\n",
    "\n",
    "fig.show()"
   ]
  },
  {
   "cell_type": "code",
   "execution_count": 11,
   "metadata": {},
   "outputs": [],
   "source": [
    "import plotly.express as px\n",
    "\n",
    "fig = px.scatter(cities.round({'a_log': 4, 'ccdfa_log': 4, 'ccdfp_log': 4, 'rank_a_log': 4}), x='rank_a_log', y='a_log', color='Continent',\n",
    "                 log_x=False, log_y=False, color_discrete_sequence=px.colors.qualitative.Pastel,\n",
    "                 template ='plotly_white', hover_data=[\"city\", \"accessibil_sc\", \"ccdf\"]).update_traces(marker=dict(size=2.5))\n",
    "\n",
    "fig.update_layout(height = 500, width = 1000, yaxis_title=\"<b> log(access)\",\n",
    "                  xaxis_title=\"<b> log(rank)\",\n",
    "                  showlegend=True, font=dict(family=\"Helvetica\", size = 10), legend_title=\"\", \n",
    "                  legend_orientation=\"h\", legend = dict(x = 0.5, xanchor = 'center', y = 1.06, yanchor = 'middle'),\n",
    "                  legend_itemsizing='constant') #legend_orientation=\"h\", legend=dict(x=0.5, y=1))\n",
    "\n",
    "#plotly.offline.plot(fig, filename=r'reports\\Graphics\\access_metrics\\ScalingLaw.html')\n",
    "\n",
    "fig.show()"
   ]
  },
  {
   "cell_type": "code",
   "execution_count": 17,
   "metadata": {},
   "outputs": [],
   "source": [
    "# import plotly.express as px\n",
    "\n",
    "# fig = px.scatter(cities.round({'accessibil_sc': 4, 'ccdf_access': 8, 'ccdf': 8})[cities['accessibil_sc']>0.01], x='a_log', y='ccdfp_log', color='Continent',\n",
    "#                  log_x=False, log_y=False, color_discrete_sequence=px.colors.qualitative.Pastel,\n",
    "#                  template ='plotly_white', hover_data=[\"city\", \"accessibil_sc\", \"ccdf\"]).update_traces(marker=dict(size=2.5))\n",
    "\n",
    "# fig.update_layout(height = 500, width = 1000, yaxis_title=\"<b> Cumulative Population Proportion\",\n",
    "#                   xaxis_title=\"<b> Accessibility Score\",\n",
    "#                   showlegend=True, font=dict(family=\"Helvetica\", size = 10), legend_title=\"\", \n",
    "#                   legend_orientation=\"h\", legend = dict(x = 0.5, xanchor = 'center', y = 1.06, yanchor = 'middle'),\n",
    "#                   legend_itemsizing='constant') #legend_orientation=\"h\", legend=dict(x=0.5, y=1))\n",
    "\n",
    "# #plotly.offline.plot(fig, filename=r'reports\\Graphics\\access_metrics\\ScalingLaw.html')\n",
    "\n",
    "# fig.show()"
   ]
  },
  {
   "cell_type": "code",
   "execution_count": 18,
   "metadata": {},
   "outputs": [],
   "source": [
    "# import plotly.express as px\n",
    "\n",
    "# fig = px.scatter(cities.round({'accessibil_sc': 4, 'ccdf_access': 8, 'ccdf': 8})[cities['accessibil_sc']>0.01], x='a_log', y='ccdfp_log', color='Continent',\n",
    "#                  log_x=False, log_y=False, color_discrete_sequence=px.colors.qualitative.Pastel,\n",
    "#                  template ='plotly_white', hover_data=[\"city\", \"accessibil_sc\", \"ccdf\"]).update_traces(marker=dict(size=2.5))\n",
    "\n",
    "# fig.update_layout(height = 500, width = 1000, yaxis_title=\"<b> Cumulative Population Proportion\",\n",
    "#                   xaxis_title=\"<b> Accessibility Score\",\n",
    "#                   showlegend=True, font=dict(family=\"Helvetica\", size = 10), legend_title=\"\", \n",
    "#                   legend_orientation=\"h\", legend = dict(x = 0.5, xanchor = 'center', y = 1.06, yanchor = 'middle'),\n",
    "#                   legend_itemsizing='constant') #legend_orientation=\"h\", legend=dict(x=0.5, y=1))\n",
    "\n",
    "# #plotly.offline.plot(fig, filename=r'reports\\Graphics\\access_metrics\\ScalingLaw.html')\n",
    "\n",
    "# fig.show()"
   ]
  },
  {
   "cell_type": "code",
   "execution_count": 19,
   "metadata": {},
   "outputs": [],
   "source": [
    "# import plotly.express as px\n",
    "\n",
    "# fig = px.scatter(cities.round({'accessibil_sc': 4, 'ccdf_access': 8, 'ccdf': 8})[cities['accessibil_sc']>0.01], x='a_log', y='ccdfp_log', color='Continent',\n",
    "#                  log_x=False, log_y=False, color_discrete_sequence=px.colors.qualitative.Pastel,\n",
    "#                  template ='plotly_white', hover_data=[\"city\", \"accessibil_sc\", \"ccdf\"]).update_traces(marker=dict(size=2.5))\n",
    "\n",
    "# fig.update_layout(height = 500, width = 1000, yaxis_title=\"<b> Cumulative Population Proportion\",\n",
    "#                   xaxis_title=\"<b> Accessibility Score\",\n",
    "#                   showlegend=True, font=dict(family=\"Helvetica\", size = 10), legend_title=\"\", \n",
    "#                   legend_orientation=\"h\", legend = dict(x = 0.5, xanchor = 'center', y = 1.06, yanchor = 'middle'),\n",
    "#                   legend_itemsizing='constant') #legend_orientation=\"h\", legend=dict(x=0.5, y=1))\n",
    "\n",
    "# #plotly.offline.plot(fig, filename=r'reports\\Graphics\\access_metrics\\ScalingLaw.html')\n",
    "\n",
    "# fig.show()"
   ]
  },
  {
   "cell_type": "code",
   "execution_count": 20,
   "metadata": {},
   "outputs": [],
   "source": [
    "# import plotly.express as px\n",
    "\n",
    "# fig = px.scatter(cities.round({'accessibil_sc': 4, 'ccdf_access': 8, 'ccdf': 8})[cities['accessibil_sc']>0.01], x='accessibil_sc', y='ccdf', color='Continent',\n",
    "#                  log_x=True, log_y=True, color_discrete_sequence=px.colors.qualitative.Pastel,\n",
    "#                  template ='plotly_white', hover_data=[\"city\", \"accessibil_sc\", \"ccdf\"]).update_traces(marker=dict(size=2.5))\n",
    "\n",
    "# fig.update_layout(height = 500, width = 1000, yaxis_title=\"<b> Cumulative Population Proportion\",\n",
    "#                   xaxis_title=\"<b> Accessibility Score\",\n",
    "#                   showlegend=True, font=dict(family=\"Helvetica\", size = 10), legend_title=\"\", \n",
    "#                   legend_orientation=\"h\", legend = dict(x = 0.5, xanchor = 'center', y = 1.06, yanchor = 'middle'),\n",
    "#                   legend_itemsizing='constant') #legend_orientation=\"h\", legend=dict(x=0.5, y=1))\n",
    "\n",
    "# #plotly.offline.plot(fig, filename=r'reports\\Graphics\\access_metrics\\ScalingLaw.html')\n",
    "\n",
    "# fig.show()"
   ]
  },
  {
   "cell_type": "code",
   "execution_count": 30,
   "metadata": {},
   "outputs": [],
   "source": [
    "# import plotly.express as px\n",
    "\n",
    "# fig = px.scatter(cities.round({'accessibil': 1, 'accessibil_sc': 4, 'ccdf': 4})[cities['accessibil']>0.01], x='accessibil_sc', y='ccdf', color='Continent',\n",
    "#                  log_x=False, log_y=False, color_discrete_sequence=px.colors.qualitative.Pastel,\n",
    "#                  template ='plotly_white', hover_data=[\"city\", \"accessibil_sc\", \"ccdf\"]).update_traces(marker=dict(size=2.5))\n",
    "\n",
    "# fig.update_layout(height = 500, width = 1000, yaxis_title=\"<b> Cumulative Population Density\",\n",
    "#                   xaxis_title=\"<b> Accessibility Score\",\n",
    "#                   showlegend=True, font=dict(family=\"Helvetica\", size = 10), legend_title=\"\", \n",
    "#                   legend_orientation=\"h\", legend = dict(x = 0.5, xanchor = 'center', y = 1.06, yanchor = 'middle'),\n",
    "#                   legend_itemsizing='constant') #legend_orientation=\"h\", legend=dict(x=0.5, y=1))\n",
    "\n",
    "# #plotly.offline.plot(fig, filename=r'reports\\Graphics\\access_metrics\\ScalingLaw.html')\n",
    "\n",
    "# fig.show()"
   ]
  },
  {
   "cell_type": "code",
   "execution_count": 26,
   "metadata": {},
   "outputs": [],
   "source": [
    "# import plotly.express as px\n",
    "\n",
    "# fig = px.scatter(cities[cities['accessibil']>0.01], x='accessibil_sc', y='ccdf', color='Continent',\n",
    "#                  log_x=False, log_y=False, color_discrete_sequence=px.colors.qualitative.Pastel,\n",
    "#                  template ='plotly_white', hover_data=[\"city\", \"accessibil_sc\", \"ccdf\"]).update_traces(marker=dict(size=2.5))\n",
    "\n",
    "# fig.update_layout(height = 500, width = 1000, yaxis_title=\"<b> Cumulative Population Density\",\n",
    "#                   xaxis_title=\"<b> Accessibility Score\",\n",
    "#                   showlegend=True, font=dict(family=\"Helvetica\", size = 10), legend_title=\"\", \n",
    "#                   legend_orientation=\"h\", legend = dict(x = 0.5, xanchor = 'center', y = 1.06, yanchor = 'middle'),\n",
    "#                   legend_itemsizing='constant') #legend_orientation=\"h\", legend=dict(x=0.5, y=1))\n",
    "\n",
    "# #plotly.offline.plot(fig, filename=r'reports\\Graphics\\access_metrics\\ScalingLaw.html')\n",
    "\n",
    "# fig.show()"
   ]
  },
  {
   "cell_type": "code",
   "execution_count": 25,
   "metadata": {},
   "outputs": [],
   "source": [
    "# import plotly.express as px\n",
    "\n",
    "# fig = px.scatter(cities[(cities['accessibil_sc'])&(cities['city']==\"Tokyo\")], x='accessibil_sc', y='ccdf', color='Continent',\n",
    "#                  log_x=False, log_y=True, color_discrete_sequence=px.colors.qualitative.Pastel,\n",
    "#                  template ='plotly_white', hover_data=[\"city\", \"accessibil_sc\", \"ccdf\"]).update_traces(marker=dict(size=2.5))\n",
    "\n",
    "# fig.update_layout(height = 500, width = 1000, yaxis_title=\"<b> Cumulative Population Proportion\",\n",
    "#                   xaxis_title=\"<b> Accessibility Score\",\n",
    "#                   showlegend=True, font=dict(family=\"Helvetica\", size = 10), legend_title=\"\", \n",
    "#                   legend_orientation=\"h\", legend = dict(x = 0.5, xanchor = 'center', y = 1.06, yanchor = 'middle'),\n",
    "#                   legend_itemsizing='constant') #legend_orientation=\"h\", legend=dict(x=0.5, y=1))\n",
    "\n",
    "# #plotly.offline.plot(fig, filename=r'reports\\Graphics\\access_metrics\\ScalingLaw.html')\n",
    "\n",
    "# fig.show()"
   ]
  },
  {
   "cell_type": "code",
   "execution_count": 24,
   "metadata": {},
   "outputs": [],
   "source": [
    "# import plotly.express as px\n",
    "\n",
    "# fig = px.scatter(cities[(cities['accessibil_sc']>0.01)&(cities['city']==\"Tokyo\")], x='accessibil_sc', y='ccdf', color='Continent',\n",
    "#                  log_x=True, log_y=True, color_discrete_sequence=px.colors.qualitative.Pastel,\n",
    "#                  template ='plotly_white', hover_data=[\"city\", \"accessibil_sc\", \"ccdf\"]).update_traces(marker=dict(size=2.5))\n",
    "\n",
    "# fig.update_layout(height = 500, width = 1000, yaxis_title=\"<b> Cumulative Population Proportion\",\n",
    "#                   xaxis_title=\"<b> Accessibility Score\",\n",
    "#                   showlegend=True, font=dict(family=\"Helvetica\", size = 10), legend_title=\"\", \n",
    "#                   legend_orientation=\"h\", legend = dict(x = 0.5, xanchor = 'center', y = 1.06, yanchor = 'middle'),\n",
    "#                   legend_itemsizing='constant') #legend_orientation=\"h\", legend=dict(x=0.5, y=1))\n",
    "\n",
    "# #plotly.offline.plot(fig, filename=r'reports\\Graphics\\access_metrics\\ScalingLaw.html')\n",
    "\n",
    "# fig.show()"
   ]
  },
  {
   "cell_type": "code",
   "execution_count": 129,
   "metadata": {},
   "outputs": [],
   "source": [
    "# import plotly.express as px\n",
    "\n",
    "# fig = px.scatter(cities, x='accessibil_sc', y='pop_%', color='Continent',\n",
    "#                  log_x=False, log_y=False, color_discrete_sequence=px.colors.qualitative.Pastel,\n",
    "#                  template ='plotly_white', hover_data=[\"city\", \"accessibil_sc\", \"ccdf\"]).update_traces(marker=dict(size=2.5))\n",
    "\n",
    "# fig.update_layout(height = 500, width = 1000, yaxis_title=\"<b> Cumulative Population Density\",\n",
    "#                   xaxis_title=\"<b> Accessibility Score\",\n",
    "#                   showlegend=True, font=dict(family=\"Helvetica\", size = 10), legend_title=\"\", \n",
    "#                   legend_orientation=\"h\", legend = dict(x = 0.5, xanchor = 'center', y = 1.06, yanchor = 'middle'),\n",
    "#                   legend_itemsizing='constant') #legend_orientation=\"h\", legend=dict(x=0.5, y=1))\n",
    "\n",
    "# #plotly.offline.plot(fig, filename=r'reports\\Graphics\\access_metrics\\ScalingLaw.html')\n",
    "\n",
    "# fig.show()"
   ]
  },
  {
   "cell_type": "code",
   "execution_count": null,
   "metadata": {},
   "outputs": [],
   "source": [
    "# median access vs exponent of each city, size of each dot is total pop of the whole city"
   ]
  },
  {
   "cell_type": "code",
   "execution_count": 45,
   "metadata": {},
   "outputs": [],
   "source": [
    "# from sklearn.model_selection import train_test_split\n",
    "# city = \"Tokyo\"\n",
    "\n",
    "# X = cities[cities['city']==city]['accessibil_sc']\n",
    "# y = cities[cities['city']==city]['ccdf']\n",
    "\n",
    "# X_train, X_test, y_train, y_test = train_test_split(X, y, test_size=0.33, random_state=42)"
   ]
  },
  {
   "cell_type": "code",
   "execution_count": 210,
   "metadata": {},
   "outputs": [],
   "source": [
    "# model = np.polyfit(np.log1p(X_train), np.log1p(y_train), deg=1)\n",
    "\n",
    "# print(\"intercept:\", model[1].round(2))\n",
    "# print(\"slope:\", model[0].round(2))"
   ]
  },
  {
   "cell_type": "code",
   "execution_count": 5,
   "metadata": {},
   "outputs": [
    {
     "data": {
      "text/html": [
       "<div>\n",
       "<style scoped>\n",
       "    .dataframe tbody tr th:only-of-type {\n",
       "        vertical-align: middle;\n",
       "    }\n",
       "\n",
       "    .dataframe tbody tr th {\n",
       "        vertical-align: top;\n",
       "    }\n",
       "\n",
       "    .dataframe thead th {\n",
       "        text-align: right;\n",
       "    }\n",
       "</style>\n",
       "<table border=\"1\" class=\"dataframe\">\n",
       "  <thead>\n",
       "    <tr style=\"text-align: right;\">\n",
       "      <th></th>\n",
       "      <th>city</th>\n",
       "      <th>POP_2015_y</th>\n",
       "      <th>active_liv</th>\n",
       "      <th>community_</th>\n",
       "      <th>education</th>\n",
       "      <th>food_choic</th>\n",
       "      <th>health_wel</th>\n",
       "      <th>mobility</th>\n",
       "      <th>nightlife</th>\n",
       "      <th>y</th>\n",
       "      <th>...</th>\n",
       "      <th>pop_%</th>\n",
       "      <th>ccdf</th>\n",
       "      <th>ccdf_access</th>\n",
       "      <th>a_log</th>\n",
       "      <th>ccdfa_log</th>\n",
       "      <th>ccdfp_log</th>\n",
       "      <th>rank_a</th>\n",
       "      <th>rank_a_log</th>\n",
       "      <th>Continent</th>\n",
       "      <th>geometry</th>\n",
       "    </tr>\n",
       "  </thead>\n",
       "  <tbody>\n",
       "    <tr>\n",
       "      <th>0</th>\n",
       "      <td>Zurich</td>\n",
       "      <td>468.351227</td>\n",
       "      <td>63.053286</td>\n",
       "      <td>86.134357</td>\n",
       "      <td>50.645381</td>\n",
       "      <td>55.759666</td>\n",
       "      <td>123.876309</td>\n",
       "      <td>64.805548</td>\n",
       "      <td>70.472857</td>\n",
       "      <td>47.386764</td>\n",
       "      <td>...</td>\n",
       "      <td>0.001189</td>\n",
       "      <td>1.000000</td>\n",
       "      <td>0.877474</td>\n",
       "      <td>1.000000</td>\n",
       "      <td>1.000000</td>\n",
       "      <td>1.000000</td>\n",
       "      <td>1.0</td>\n",
       "      <td>0.000000</td>\n",
       "      <td>Europe</td>\n",
       "      <td>POLYGON ((8.52792 47.38557, 8.52816 47.38791, ...</td>\n",
       "    </tr>\n",
       "    <tr>\n",
       "      <th>1</th>\n",
       "      <td>Zurich</td>\n",
       "      <td>489.092712</td>\n",
       "      <td>76.890100</td>\n",
       "      <td>120.004829</td>\n",
       "      <td>130.543286</td>\n",
       "      <td>54.991929</td>\n",
       "      <td>88.553486</td>\n",
       "      <td>57.419628</td>\n",
       "      <td>63.030514</td>\n",
       "      <td>47.370499</td>\n",
       "      <td>...</td>\n",
       "      <td>0.001242</td>\n",
       "      <td>0.998811</td>\n",
       "      <td>0.874236</td>\n",
       "      <td>0.974186</td>\n",
       "      <td>0.999713</td>\n",
       "      <td>0.999817</td>\n",
       "      <td>2.0</td>\n",
       "      <td>0.095902</td>\n",
       "      <td>Europe</td>\n",
       "      <td>POLYGON ((8.54851 47.36917, 8.54875 47.37152, ...</td>\n",
       "    </tr>\n",
       "    <tr>\n",
       "      <th>2</th>\n",
       "      <td>Zurich</td>\n",
       "      <td>319.946716</td>\n",
       "      <td>52.465406</td>\n",
       "      <td>83.130423</td>\n",
       "      <td>153.086765</td>\n",
       "      <td>75.713407</td>\n",
       "      <td>75.096422</td>\n",
       "      <td>56.953453</td>\n",
       "      <td>115.623984</td>\n",
       "      <td>47.365169</td>\n",
       "      <td>...</td>\n",
       "      <td>0.000812</td>\n",
       "      <td>0.997569</td>\n",
       "      <td>0.872973</td>\n",
       "      <td>0.964843</td>\n",
       "      <td>0.999600</td>\n",
       "      <td>0.999626</td>\n",
       "      <td>3.0</td>\n",
       "      <td>0.152001</td>\n",
       "      <td>Europe</td>\n",
       "      <td>POLYGON ((8.52895 47.36449, 8.52919 47.36683, ...</td>\n",
       "    </tr>\n",
       "    <tr>\n",
       "      <th>3</th>\n",
       "      <td>Zurich</td>\n",
       "      <td>489.092712</td>\n",
       "      <td>82.481237</td>\n",
       "      <td>135.023609</td>\n",
       "      <td>107.392900</td>\n",
       "      <td>35.986227</td>\n",
       "      <td>87.228009</td>\n",
       "      <td>95.130309</td>\n",
       "      <td>79.947509</td>\n",
       "      <td>47.384331</td>\n",
       "      <td>...</td>\n",
       "      <td>0.001242</td>\n",
       "      <td>0.996756</td>\n",
       "      <td>0.872133</td>\n",
       "      <td>0.958841</td>\n",
       "      <td>0.999526</td>\n",
       "      <td>0.999501</td>\n",
       "      <td>4.0</td>\n",
       "      <td>0.191804</td>\n",
       "      <td>Europe</td>\n",
       "      <td>POLYGON ((8.53086 47.38322, 8.53110 47.38557, ...</td>\n",
       "    </tr>\n",
       "    <tr>\n",
       "      <th>4</th>\n",
       "      <td>Zurich</td>\n",
       "      <td>489.092712</td>\n",
       "      <td>84.515859</td>\n",
       "      <td>181.791408</td>\n",
       "      <td>159.842563</td>\n",
       "      <td>45.763986</td>\n",
       "      <td>59.456929</td>\n",
       "      <td>62.186662</td>\n",
       "      <td>113.795423</td>\n",
       "      <td>47.367602</td>\n",
       "      <td>...</td>\n",
       "      <td>0.001242</td>\n",
       "      <td>0.995515</td>\n",
       "      <td>0.869665</td>\n",
       "      <td>0.942049</td>\n",
       "      <td>0.999306</td>\n",
       "      <td>0.999309</td>\n",
       "      <td>5.0</td>\n",
       "      <td>0.222678</td>\n",
       "      <td>Europe</td>\n",
       "      <td>POLYGON ((8.54509 47.36683, 8.54533 47.36917, ...</td>\n",
       "    </tr>\n",
       "  </tbody>\n",
       "</table>\n",
       "<p>5 rows × 27 columns</p>\n",
       "</div>"
      ],
      "text/plain": [
       "     city  POP_2015_y  active_liv  community_   education  food_choic  \\\n",
       "0  Zurich  468.351227   63.053286   86.134357   50.645381   55.759666   \n",
       "1  Zurich  489.092712   76.890100  120.004829  130.543286   54.991929   \n",
       "2  Zurich  319.946716   52.465406   83.130423  153.086765   75.713407   \n",
       "3  Zurich  489.092712   82.481237  135.023609  107.392900   35.986227   \n",
       "4  Zurich  489.092712   84.515859  181.791408  159.842563   45.763986   \n",
       "\n",
       "   health_wel   mobility   nightlife          y  ...     pop_%      ccdf  \\\n",
       "0  123.876309  64.805548   70.472857  47.386764  ...  0.001189  1.000000   \n",
       "1   88.553486  57.419628   63.030514  47.370499  ...  0.001242  0.998811   \n",
       "2   75.096422  56.953453  115.623984  47.365169  ...  0.000812  0.997569   \n",
       "3   87.228009  95.130309   79.947509  47.384331  ...  0.001242  0.996756   \n",
       "4   59.456929  62.186662  113.795423  47.367602  ...  0.001242  0.995515   \n",
       "\n",
       "   ccdf_access     a_log  ccdfa_log  ccdfp_log  rank_a  rank_a_log  Continent  \\\n",
       "0     0.877474  1.000000   1.000000   1.000000     1.0    0.000000     Europe   \n",
       "1     0.874236  0.974186   0.999713   0.999817     2.0    0.095902     Europe   \n",
       "2     0.872973  0.964843   0.999600   0.999626     3.0    0.152001     Europe   \n",
       "3     0.872133  0.958841   0.999526   0.999501     4.0    0.191804     Europe   \n",
       "4     0.869665  0.942049   0.999306   0.999309     5.0    0.222678     Europe   \n",
       "\n",
       "                                            geometry  \n",
       "0  POLYGON ((8.52792 47.38557, 8.52816 47.38791, ...  \n",
       "1  POLYGON ((8.54851 47.36917, 8.54875 47.37152, ...  \n",
       "2  POLYGON ((8.52895 47.36449, 8.52919 47.36683, ...  \n",
       "3  POLYGON ((8.53086 47.38322, 8.53110 47.38557, ...  \n",
       "4  POLYGON ((8.54509 47.36683, 8.54533 47.36917, ...  \n",
       "\n",
       "[5 rows x 27 columns]"
      ]
     },
     "execution_count": 5,
     "metadata": {},
     "output_type": "execute_result"
    }
   ],
   "source": [
    "cities.head()"
   ]
  },
  {
   "cell_type": "code",
   "execution_count": 6,
   "metadata": {},
   "outputs": [
    {
     "data": {
      "text/plain": [
       "297550    1.000000e+00\n",
       "297551    9.806676e-01\n",
       "297552    9.771824e-01\n",
       "297553    9.518695e-01\n",
       "297554    9.367765e-01\n",
       "              ...     \n",
       "306000    1.218077e-02\n",
       "306001    1.001914e-02\n",
       "306002    1.900564e-03\n",
       "306003    8.233333e-04\n",
       "306004   -2.220446e-16\n",
       "Name: a_log, Length: 8455, dtype: float64"
      ]
     },
     "execution_count": 6,
     "metadata": {},
     "output_type": "execute_result"
    }
   ],
   "source": [
    "cities[cities['city']==\"Chicago\"]['a_log']"
   ]
  },
  {
   "cell_type": "markdown",
   "metadata": {},
   "source": [
    "### AUC Population Analysis"
   ]
  },
  {
   "cell_type": "code",
   "execution_count": 39,
   "metadata": {},
   "outputs": [
    {
     "name": "stdout",
     "output_type": "stream",
     "text": [
      "Zurich\n",
      "The area between the two curves is: 0.01793131195021147\n",
      "Warsaw\n",
      "The area between the two curves is: -0.10907103593655465\n",
      "Vancouver\n",
      "The area between the two curves is: 0.008752369072156707\n",
      "Tokyo\n",
      "The area between the two curves is: -0.009649740383296246\n",
      "The Hague\n",
      "The area between the two curves is: -0.05113691319870661\n",
      "Taipei\n",
      "The area between the two curves is: -0.043752748547479126\n",
      "Sydney\n",
      "The area between the two curves is: -0.010913987645504664\n",
      "Stockholm\n",
      "The area between the two curves is: 0.024481804147449826\n",
      "Singapore\n",
      "The area between the two curves is: -0.023805100786119304\n",
      "Shanghai\n",
      "The area between the two curves is: -0.04911547125286564\n",
      "Seoul\n",
      "The area between the two curves is: -0.016252426153963828\n",
      "Seattle\n",
      "The area between the two curves is: -0.06476630111364656\n",
      "Santiago\n",
      "The area between the two curves is: -0.01566131774341817\n",
      "San Francisco\n",
      "The area between the two curves is: -0.034771113960046285\n",
      "Rome\n",
      "The area between the two curves is: -0.08055814751859491\n",
      "Rio de Janeiro\n",
      "The area between the two curves is: -0.0614381219959349\n",
      "Philadelphia\n",
      "The area between the two curves is: -0.03411432941920267\n",
      "Ottawa\n",
      "The area between the two curves is: -0.10367478599629554\n",
      "Nottingham\n",
      "The area between the two curves is: -0.001468192517476763\n",
      "New York City\n",
      "The area between the two curves is: -0.0587325020492836\n",
      "Nairobi\n",
      "The area between the two curves is: -0.03981533639261403\n",
      "Moscow\n",
      "The area between the two curves is: -0.01391877173437317\n",
      "Montreal\n",
      "The area between the two curves is: -0.024114725540128612\n",
      "Milan\n",
      "The area between the two curves is: 0.022063536021443397\n",
      "Miami\n",
      "The area between the two curves is: -0.007998164365781602\n",
      "Mexico City\n",
      "The area between the two curves is: -0.06563899586298172\n",
      "Melbourne\n",
      "The area between the two curves is: 0.005714988298419099\n",
      "Manila\n",
      "The area between the two curves is: -0.05649803780092455\n",
      "Madrid\n",
      "The area between the two curves is: -0.07074305398679093\n",
      "Los Angeles\n",
      "The area between the two curves is: -0.050536023534478725\n",
      "London\n",
      "The area between the two curves is: -0.005297283796101282\n",
      "Lisbon\n",
      "The area between the two curves is: -0.011992760128236024\n",
      "Lima\n",
      "The area between the two curves is: -0.07479944681780015\n",
      "Jakarta\n",
      "The area between the two curves is: -0.026023916506919265\n",
      "Istanbul\n",
      "The area between the two curves is: -0.025831606171880073\n",
      "Houston\n",
      "The area between the two curves is: -0.056092989467445786\n",
      "Ho Chi Minh\n",
      "The area between the two curves is: -0.07600113282910459\n",
      "Edmonton\n",
      "The area between the two curves is: -0.011958770649830752\n",
      "Edinburgh\n",
      "The area between the two curves is: 0.005966794313011503\n",
      "Dublin\n",
      "The area between the two curves is: -0.03441741055161385\n",
      "Copenhagen\n",
      "The area between the two curves is: 0.02056518618600367\n",
      "Chicago\n",
      "The area between the two curves is: 0.026085440651074987\n",
      "Cape Town\n",
      "The area between the two curves is: -0.03840985354946913\n",
      "Calgary\n",
      "The area between the two curves is: 0.018269199627021226\n",
      "Buenos Aires\n",
      "The area between the two curves is: -0.010183459834352648\n",
      "Budapest\n",
      "The area between the two curves is: -0.010765004854843108\n",
      "Bogota\n",
      "The area between the two curves is: -0.03883576948835632\n",
      "Berlin\n",
      "The area between the two curves is: -0.025238119320402763\n",
      "Beijing\n",
      "The area between the two curves is: -0.057771380155688834\n",
      "Barcelona\n",
      "The area between the two curves is: -0.010469221455550404\n",
      "Bangkok\n",
      "The area between the two curves is: -0.08985265266605913\n",
      "Auckland\n",
      "The area between the two curves is: -0.05260618400997563\n",
      "Athens\n",
      "The area between the two curves is: -0.052169349100831375\n",
      "Amsterdam\n",
      "The area between the two curves is: -0.11520863417009164\n"
     ]
    }
   ],
   "source": [
    "import numpy as np\n",
    "from sklearn.metrics import auc\n",
    "# https://scikit-learn.org/stable/modules/generated/sklearn.metrics.auc.html\n",
    "\n",
    "city_names = []\n",
    "areas_A = []\n",
    "areas_P = []\n",
    "areas_AP = []\n",
    "\n",
    "for i in cities['city'].unique():\n",
    "    \n",
    "    xx = cities[cities['city']==i]['a_log']\n",
    "    yyA = cities[cities['city']==i]['ccdfa_log']\n",
    "    yyP = cities[cities['city']==i]['ccdfp_log']\n",
    "\n",
    "    area_A = auc(xx,yyA)\n",
    "    area_P = auc(xx,yyP)\n",
    "    area_AP = area_A-area_P\n",
    "    \n",
    "    city_names.append(i)\n",
    "    areas_A.append(area_A)\n",
    "    areas_P.append(area_P)\n",
    "    areas_AP.append(area_AP)\n",
    "    \n",
    "    data = {\"city\": city_names, \"areas_A\": areas_A, \"areas_P\": areas_P, \"areas_AP\": areas_AP}\n",
    "    results = pd.DataFrame(data)\n",
    "\n",
    "    print(i)\n",
    "#     print('computed AUC of ccdfA using sklearn.metrics.auc: {}'.format(area_A))\n",
    "#     print('computed AUC of ccdfP using sklearn.metrics.auc: {}'.format(area_P))\n",
    "    print('The area between the two curves is: {}'.format(area_AP))\n",
    "# print('computed AUC using np.trapz: {}'.format(np.trapz(yy, dx = dx)))"
   ]
  },
  {
   "cell_type": "code",
   "execution_count": 40,
   "metadata": {},
   "outputs": [],
   "source": [
    "results.to_csv(\"data/processed/cities_auc.csv\")"
   ]
  },
  {
   "cell_type": "code",
   "execution_count": 213,
   "metadata": {},
   "outputs": [],
   "source": [
    "city_names = []\n",
    "intercepts_ap = []\n",
    "slopes_ap = []\n",
    "intercepts_aa = []\n",
    "slopes_aa = []\n",
    "\n",
    "for i in cities['city'].unique():\n",
    "    \n",
    "    # access and pop ccdf\n",
    "    X = cities[cities['city']==i]['accessibil_sc']\n",
    "    y_pop = cities[cities['city']==i]['ccdf']\n",
    "\n",
    "    X_train, X_test, y_train, y_test = train_test_split(X, y_pop, test_size=0.33, random_state=42)\n",
    "    model = np.polyfit(np.log1p(X_train), np.log1p(y_train), deg=1)\n",
    "    \n",
    "    city_names.append(i)\n",
    "    intercepts_ap.append(model[1])\n",
    "    slopes_ap.append(model[0])\n",
    "    \n",
    "    # access and pop ccdf\n",
    "    y_acc = cities[cities['city']==i]['ccdf_access']\n",
    "\n",
    "    X_train, X_test, y_train, y_test = train_test_split(X, y_acc, test_size=0.33, random_state=42)\n",
    "    model = np.polyfit(np.log1p(X_train), np.log1p(y_train), deg=1)\n",
    "    \n",
    "    intercepts_aa.append(model[1])\n",
    "    slopes_aa.append(model[0])\n",
    "    \n",
    "#     print(i)\n",
    "#     print(\"intercept:\", model[1].round(2))\n",
    "#     print(\"slope:\", model[0].round(2))\n",
    "\n",
    "data = {\"city\": city_names, \"intercept_ap\": intercepts_ap, \"slope_ap\": slopes_ap, \"intercept_aa\": intercepts_aa, \"slope_aa\": slopes_aa}\n",
    "results = pd.DataFrame(data)"
   ]
  },
  {
   "cell_type": "code",
   "execution_count": 215,
   "metadata": {},
   "outputs": [],
   "source": [
    "cities_exp = results.merge(cities[['POP_2015_y', 'accessibil_sc', 'accessibil', 'Continent', 'city']].groupby(by ='city').agg({'POP_2015_y': 'sum', 'accessibil_sc': 'median', 'accessibil': 'median'}), on='city')\n",
    "cities_exp = pd.merge(cities_exp, cities[['Continent', 'city']], on='city', how='left').groupby(by=['city', 'Continent']).median().reset_index()"
   ]
  },
  {
   "cell_type": "code",
   "execution_count": 3,
   "metadata": {},
   "outputs": [],
   "source": [
    "# cities_exp.to_csv(\"data/processed/cities_exp.csv\")\n",
    "cities_exp = pd.read_csv(\"data/processed/cities_exp.csv\")"
   ]
  },
  {
   "cell_type": "code",
   "execution_count": 74,
   "metadata": {},
   "outputs": [],
   "source": [
    "# cities[(cities['accessibil_sc']>0.01)&(cities['city']==\"Tokyo\")|(cities['city']==\"Berlin\")|(cities['city']==\"Budapest\")|(cities['city']==\"London\")]"
   ]
  },
  {
   "cell_type": "code",
   "execution_count": 107,
   "metadata": {},
   "outputs": [],
   "source": [
    "# import plotly.express as px\n",
    "\n",
    "# fig = px.scatter(cities.round({'accessibil': 1, 'accessibil_sc': 4, 'ccdf': 4})[(cities['accessibil_sc']>0.01)&((cities['city']==\"Tokyo\")|(cities['city']==\"Berlin\")|(cities['city']==\"Seattle\")|(cities['city']==\"London\"))]\n",
    "#                  , x='accessibil_sc', y='ccdf', color='city',\n",
    "#                  log_x=True, log_y=True, color_discrete_sequence=px.colors.qualitative.Pastel,\n",
    "#                  template ='plotly_white', hover_data=[\"city\", \"accessibil_sc\", \"ccdf\"]).update_traces(marker=dict(size=2.5))\n",
    "\n",
    "# fig.update_layout(height = 500, width = 1000, yaxis_title=\"<b> Cumulative Population Proportion\",\n",
    "#                   xaxis_title=\"<b> Accessibility Score\",\n",
    "#                   showlegend=True, font=dict(family=\"Helvetica\", size = 10), legend_title=\"\", \n",
    "#                   legend_orientation=\"h\", legend = dict(x = 0.5, xanchor = 'center', y = 1.06, yanchor = 'middle'),\n",
    "#                   legend_itemsizing='constant') #legend_orientation=\"h\", legend=dict(x=0.5, y=1))\n",
    "\n",
    "# #plotly.offline.plot(fig, filename=r'reports\\Graphics\\access_metrics\\ScalingLaw.html')\n",
    "\n",
    "# fig.show()"
   ]
  },
  {
   "cell_type": "code",
   "execution_count": 106,
   "metadata": {},
   "outputs": [],
   "source": [
    "# import plotly.express as px\n",
    "\n",
    "# fig = px.scatter(cities.round({'accessibil_sc': 4, 'ccdf_access': 8, 'ccdf': 8})[(cities['accessibil_sc']>0.01)&((cities['city']==\"Tokyo\")|(cities['city']==\"Berlin\")|(cities['city']==\"Seattle\")|(cities['city']==\"London\"))]\n",
    "#                  , x='accessibil_sc', y='ccdf_access', color='city',\n",
    "#                  log_x=True, log_y=True, color_discrete_sequence=px.colors.qualitative.Pastel,\n",
    "#                  template ='plotly_white', hover_data=[\"city\", \"accessibil_sc\", \"ccdf\"]).update_traces(marker=dict(size=2.5))\n",
    "\n",
    "# fig.update_layout(height = 500, width = 1000, yaxis_title=\"<b> Cumulative Probability of Accessibility\",\n",
    "#                   xaxis_title=\"<b> Accessibility Score\",\n",
    "#                   showlegend=True, font=dict(family=\"Helvetica\", size = 10), legend_title=\"\", \n",
    "#                   legend_orientation=\"h\", legend = dict(x = 0.5, xanchor = 'center', y = 1.06, yanchor = 'middle'),\n",
    "#                   legend_itemsizing='constant') #legend_orientation=\"h\", legend=dict(x=0.5, y=1))\n",
    "\n",
    "# #plotly.offline.plot(fig, filename=r'reports\\Graphics\\access_metrics\\ScalingLaw.html')\n",
    "\n",
    "# fig.show()"
   ]
  },
  {
   "cell_type": "code",
   "execution_count": 4,
   "metadata": {},
   "outputs": [],
   "source": [
    "cities_exp.sort_values('slope_ap', ascending=False)"
   ]
  },
  {
   "cell_type": "code",
   "execution_count": 117,
   "metadata": {},
   "outputs": [],
   "source": [
    "# import plotly.express as px\n",
    "\n",
    "# fig = px.scatter(cities_exp, x='accessibil_sc', y='slope', color='Continent',\n",
    "#                  log_x=False, log_y=False, color_discrete_sequence=px.colors.qualitative.Pastel,\n",
    "#                  template ='plotly_white', hover_data=[\"city\", \"accessibil_sc\", \"ccdf\"]).update_traces(marker=dict(size=2.5))\n",
    "\n",
    "# fig.update_layout(height = 500, width = 1000, yaxis_title=\"<b> Cumulative Population Proportion\",\n",
    "#                   xaxis_title=\"<b> Accessibility Score\",\n",
    "#                   showlegend=True, font=dict(family=\"Helvetica\", size = 10), legend_title=\"\", \n",
    "#                   legend_orientation=\"h\", legend = dict(x = 0.5, xanchor = 'center', y = 1.06, yanchor = 'middle'),\n",
    "#                   legend_itemsizing='constant') #legend_orientation=\"h\", legend=dict(x=0.5, y=1))\n",
    "\n",
    "# #plotly.offline.plot(fig, filename=r'reports\\Graphics\\access_metrics\\ScalingLaw.html')\n",
    "\n",
    "# fig.show()"
   ]
  },
  {
   "cell_type": "code",
   "execution_count": 6,
   "metadata": {},
   "outputs": [],
   "source": [
    "# fig, ax = plt.subplots(figsize=(15,10))\n",
    "# ax = sns.scatterplot(data=cities_exp, x=\"accessibil_sc\", y=\"slope\", size='POP_2015_y', hue = \"Continent\")"
   ]
  },
  {
   "cell_type": "code",
   "execution_count": 5,
   "metadata": {},
   "outputs": [],
   "source": [
    "# fig, ax = plt.subplots(figsize=(15,10))\n",
    "# ax = sns.scatterplot(data=cities_exp, x=\"accessibil_sc\", y=\"POP_2015_y\", size='slope', hue = \"Continent\")"
   ]
  },
  {
   "cell_type": "code",
   "execution_count": 4,
   "metadata": {},
   "outputs": [],
   "source": [
    "# fig, ax = plt.subplots(figsize=(15,10))\n",
    "# ax = sns.scatterplot(data=cities_exp, x=\"slope\", y=\"POP_2015_y\", size='accessibil_sc', hue = \"Continent\")"
   ]
  },
  {
   "cell_type": "code",
   "execution_count": 3,
   "metadata": {},
   "outputs": [],
   "source": [
    "# import matplotlib.pyplot as plt\n",
    "# %matplotlib inline\n",
    "# fig, ax = plt.subplots(figsize=(15,10))\n",
    "# ax = sns.scatterplot(data=cities_exp, x=\"slope_aa\", y=\"slope_ap\", size='POP_2015_y', hue = \"Continent\")"
   ]
  },
  {
   "cell_type": "code",
   "execution_count": 2,
   "metadata": {},
   "outputs": [],
   "source": [
    "# import plotly.express as px\n",
    "# fig = px.scatter(cities_exp, x=\"slope_aa\", y=\"slope_ap\", color='Continent', size='accessibil_sc',\n",
    "#                  color_discrete_sequence=px.colors.qualitative.Pastel,\n",
    "#                  template ='plotly_white', hover_data=[\"city\", \"accessibil_sc\", \"slope_ap\", \"slope_aa\"])\n",
    "\n",
    "# fig.update_layout(height = 500, width = 1000, yaxis_title=\"<b> Slope Access/Pop Law\",\n",
    "#                   xaxis_title=\"<b> Slope Access Law\",\n",
    "#                   showlegend=True, font=dict(family=\"Helvetica\", size = 10), legend_title=\"\", \n",
    "#                   legend_orientation=\"h\", legend = dict(x = 0.5, xanchor = 'center', y = 1.06, yanchor = 'middle'),\n",
    "#                   legend_itemsizing='constant') #legend_orientation=\"h\", legend=dict(x=0.5, y=1))\n",
    "\n",
    "# #plotly.offline.plot(fig, filename=r'reports\\Graphics\\access_metrics\\ScalingLaw.html')\n",
    "\n",
    "# fig.show()"
   ]
  },
  {
   "cell_type": "markdown",
   "metadata": {},
   "source": [
    "### Story\n",
    "1) Law: Pure with all the cells\n",
    "- Explain that law is interesting, but its possible that it is because there are a number of cells with very low populations\n",
    "- Color by continent\n",
    "</br>\n",
    "2) Beyond the Law:\n",
    "- Now we remove all the cells below a population percentage threshold (e.g. 0.05% of the city population)\n",
    "- we show the disparity in access by population in cities: how the same amount of people have drastically different access scores"
   ]
  },
  {
   "cell_type": "code",
   "execution_count": null,
   "metadata": {},
   "outputs": [],
   "source": []
  },
  {
   "cell_type": "code",
   "execution_count": null,
   "metadata": {},
   "outputs": [],
   "source": []
  },
  {
   "cell_type": "code",
   "execution_count": null,
   "metadata": {},
   "outputs": [],
   "source": [
    "# 1) 1 figure of 10 NA cities (y == ccdf pop, x=access, log scale y and x with coefficient and slope), twice: once for access ccdf pop, twice for ccdf access --> color by city\n",
    "# 2) scatterplot: slope from access law (pdf and access) vs slope of access/pop law color/size by population --> grey dots but color NA cities\n",
    "# 3) access/pop law without exponents + access law plot (square plots) (12px) only for 10 NA cities, same thing in supp with all cities --> all lines grey and color 3 med high low cities"
   ]
  },
  {
   "cell_type": "code",
   "execution_count": 93,
   "metadata": {},
   "outputs": [],
   "source": [
    "# sns.barplot(data=binned_ld, x='bin', y=\"POP_2015_y\", s=2)"
   ]
  },
  {
   "cell_type": "code",
   "execution_count": 38,
   "metadata": {},
   "outputs": [],
   "source": [
    "# sns.distplot(cities['accessibil_cap'][(cities['city']=='Tokyo')&(cities['accessibil_cap']<400)].replace([np.inf, -np.inf], np.NaN), bins=100, color='blue')\n",
    "# # sns.distplot(cities['accessibil_sc_popw_r'][cities['city']=='London'], bins=50, color='orange')"
   ]
  },
  {
   "cell_type": "code",
   "execution_count": 7,
   "metadata": {},
   "outputs": [],
   "source": [
    "# cities.to_file('data/interim/accessibility/new/poly/hex/cities_final_popgrid.json', index=False, driver = 'GeoJSON')"
   ]
  },
  {
   "cell_type": "code",
   "execution_count": 12,
   "metadata": {},
   "outputs": [],
   "source": [
    "cities[cities['Continent'] == \"North America\"].to_csv('data/interim/accessibility/new/poly/hex/cities_NA_popgrid.csv')"
   ]
  },
  {
   "cell_type": "code",
   "execution_count": 92,
   "metadata": {},
   "outputs": [],
   "source": [
    "cities['accessibil'] = cities['accessibil'].astype('int')"
   ]
  },
  {
   "cell_type": "code",
   "execution_count": 36,
   "metadata": {},
   "outputs": [],
   "source": [
    "# cities.round({'accessibil_sc': 4, 'ccdf_access': 8, 'ccdf': 8})[['city', 'accessibil', 'accessibil_sc', \"ccdf_access\", 'ccdf']].to_csv('data/interim/accessibility/new/poly/hex/cities_scaling.csv')"
   ]
  },
  {
   "cell_type": "code",
   "execution_count": 44,
   "metadata": {},
   "outputs": [],
   "source": [
    "cities.round({'a_log': 4, 'pop_log': 4, 'ccdfa_log': 4, 'ccdfp_log': 4, 'rank_a_log': 4})[['city', 'a_log', 'pop_log', \"ccdfa_log\", 'ccdfp_log', \"rank_a_log\"]].to_csv('data/processed/cities_scaling.csv')"
   ]
  },
  {
   "cell_type": "code",
   "execution_count": null,
   "metadata": {},
   "outputs": [],
   "source": [
    "# cities.round({'a_log': 4, 'pop_log': 4, 'ccdfa_log': 4, 'ccdfp_log': 4, 'rank_a_log': 4})[['city', 'a_log', 'pop_log', \"ccdfa_log\", 'ccdfp_log', \"rank_a_log\"]].to_file('data/interim/accessibility/new/poly/hex/cities_final_popgrid.json', index=False, driver = 'GeoJSON')"
   ]
  },
  {
   "cell_type": "code",
   "execution_count": 95,
   "metadata": {},
   "outputs": [
    {
     "name": "stdout",
     "output_type": "stream",
     "text": [
      "<class 'geopandas.geodataframe.GeoDataFrame'>\n",
      "RangeIndex: 396924 entries, 0 to 396923\n",
      "Data columns (total 28 columns):\n",
      " #   Column                Non-Null Count   Dtype   \n",
      "---  ------                --------------   -----   \n",
      " 0   city                  396924 non-null  object  \n",
      " 1   POP_2015_y            396924 non-null  float64 \n",
      " 2   active_liv            396924 non-null  float64 \n",
      " 3   community_            396924 non-null  float64 \n",
      " 4   education             396924 non-null  float64 \n",
      " 5   food_choic            396924 non-null  float64 \n",
      " 6   health_wel            396924 non-null  float64 \n",
      " 7   mobility              396924 non-null  float64 \n",
      " 8   nightlife             396924 non-null  float64 \n",
      " 9   y                     396924 non-null  float64 \n",
      " 10  x                     396924 non-null  float64 \n",
      " 11  pop_r                 396924 non-null  float64 \n",
      " 12  accessibil            396924 non-null  int32   \n",
      " 13  accessibil_sc         396924 non-null  float64 \n",
      " 14  accessibil_sc_popw    396924 non-null  float64 \n",
      " 15  accessibil_sc_popw_r  396924 non-null  float64 \n",
      " 16  accessibil_cap        343933 non-null  float64 \n",
      " 17  pop_%                 396924 non-null  float64 \n",
      " 18  ccdf                  396924 non-null  float64 \n",
      " 19  ccdf_access           396924 non-null  float64 \n",
      " 20  a_log                 396924 non-null  float64 \n",
      " 21  ccdfa_log             396924 non-null  float64 \n",
      " 22  ccdfp_log             396924 non-null  float64 \n",
      " 23  rank_a                396924 non-null  float64 \n",
      " 24  rank_a_log            396924 non-null  float64 \n",
      " 25  Continent             396924 non-null  object  \n",
      " 26  geometry              396924 non-null  geometry\n",
      " 27  pop_log               396924 non-null  float64 \n",
      "dtypes: float64(24), geometry(1), int32(1), object(2)\n",
      "memory usage: 83.3+ MB\n"
     ]
    }
   ],
   "source": [
    "cities.info()"
   ]
  }
 ],
 "metadata": {
  "kernelspec": {
   "display_name": "Python 3",
   "language": "python",
   "name": "python3"
  },
  "language_info": {
   "codemirror_mode": {
    "name": "ipython",
    "version": 3
   },
   "file_extension": ".py",
   "mimetype": "text/x-python",
   "name": "python",
   "nbconvert_exporter": "python",
   "pygments_lexer": "ipython3",
   "version": "3.7.3"
  }
 },
 "nbformat": 4,
 "nbformat_minor": 4
}
